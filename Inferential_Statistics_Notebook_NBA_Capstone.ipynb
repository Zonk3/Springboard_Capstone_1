{
 "cells": [
  {
   "cell_type": "markdown",
   "metadata": {},
   "source": [
    "## <center>NBA Analytics Data Analysis Project<center>\n",
    "### <center>Inferential Statistics Notebook<center>  \n",
    "    \n",
    "#### <center>presented by Brian Zamkotowicz for Springboard Capstone Project<center>\n"
   ]
  },
  {
   "cell_type": "markdown",
   "metadata": {},
   "source": [
    "In phases 1 and 2 of this NBA Analytics Project I organized the data into useable form and began to provide graphic representaion of some of the variables that might be used when attempting to build a better NBA team.  This Inferential Statistics Notebook intends to build upon and further that analysis by further examining the relationships between certain variable metrics and changes in team wins."
   ]
  },
  {
   "cell_type": "code",
   "execution_count": 1,
   "metadata": {},
   "outputs": [
    {
     "data": {
      "text/html": [
       "<div>\n",
       "<style scoped>\n",
       "    .dataframe tbody tr th:only-of-type {\n",
       "        vertical-align: middle;\n",
       "    }\n",
       "\n",
       "    .dataframe tbody tr th {\n",
       "        vertical-align: top;\n",
       "    }\n",
       "\n",
       "    .dataframe thead th {\n",
       "        text-align: right;\n",
       "    }\n",
       "</style>\n",
       "<table border=\"1\" class=\"dataframe\">\n",
       "  <thead>\n",
       "    <tr style=\"text-align: right;\">\n",
       "      <th></th>\n",
       "      <th>Tm</th>\n",
       "      <th>Year</th>\n",
       "      <th>Age</th>\n",
       "      <th>BPM_A</th>\n",
       "      <th>WORP</th>\n",
       "      <th>VORP</th>\n",
       "      <th>PER</th>\n",
       "      <th>WORP_Chg</th>\n",
       "      <th>VORP_Chg</th>\n",
       "      <th>BPM_A_Chg</th>\n",
       "      <th>PER_Chg</th>\n",
       "      <th>ABBR</th>\n",
       "      <th>YR</th>\n",
       "      <th>W</th>\n",
       "      <th>Win_Delta</th>\n",
       "    </tr>\n",
       "  </thead>\n",
       "  <tbody>\n",
       "    <tr>\n",
       "      <th>1</th>\n",
       "      <td>ATL</td>\n",
       "      <td>2012</td>\n",
       "      <td>28.666667</td>\n",
       "      <td>-1.026931</td>\n",
       "      <td>26.987068</td>\n",
       "      <td>9.8</td>\n",
       "      <td>222.3</td>\n",
       "      <td>-16.833053</td>\n",
       "      <td>-6.8</td>\n",
       "      <td>-4.798933</td>\n",
       "      <td>-1.8</td>\n",
       "      <td>ATL</td>\n",
       "      <td>2012</td>\n",
       "      <td>40</td>\n",
       "      <td>-4.0</td>\n",
       "    </tr>\n",
       "    <tr>\n",
       "      <th>2</th>\n",
       "      <td>ATL</td>\n",
       "      <td>2013</td>\n",
       "      <td>26.888889</td>\n",
       "      <td>-2.037678</td>\n",
       "      <td>28.595704</td>\n",
       "      <td>10.7</td>\n",
       "      <td>245.5</td>\n",
       "      <td>1.608636</td>\n",
       "      <td>0.9</td>\n",
       "      <td>-1.010747</td>\n",
       "      <td>23.2</td>\n",
       "      <td>ATL</td>\n",
       "      <td>2013</td>\n",
       "      <td>44</td>\n",
       "      <td>4.0</td>\n",
       "    </tr>\n",
       "    <tr>\n",
       "      <th>3</th>\n",
       "      <td>ATL</td>\n",
       "      <td>2014</td>\n",
       "      <td>25.739130</td>\n",
       "      <td>0.746189</td>\n",
       "      <td>28.556464</td>\n",
       "      <td>10.4</td>\n",
       "      <td>265.2</td>\n",
       "      <td>-0.039241</td>\n",
       "      <td>-0.3</td>\n",
       "      <td>2.783867</td>\n",
       "      <td>19.7</td>\n",
       "      <td>ATL</td>\n",
       "      <td>2014</td>\n",
       "      <td>38</td>\n",
       "      <td>-6.0</td>\n",
       "    </tr>\n",
       "    <tr>\n",
       "      <th>4</th>\n",
       "      <td>ATL</td>\n",
       "      <td>2015</td>\n",
       "      <td>26.631579</td>\n",
       "      <td>-1.173145</td>\n",
       "      <td>24.713699</td>\n",
       "      <td>9.1</td>\n",
       "      <td>218.3</td>\n",
       "      <td>-3.842764</td>\n",
       "      <td>-1.3</td>\n",
       "      <td>-1.919334</td>\n",
       "      <td>-46.9</td>\n",
       "      <td>ATL</td>\n",
       "      <td>2015</td>\n",
       "      <td>60</td>\n",
       "      <td>22.0</td>\n",
       "    </tr>\n",
       "    <tr>\n",
       "      <th>6</th>\n",
       "      <td>BOS</td>\n",
       "      <td>2012</td>\n",
       "      <td>28.421053</td>\n",
       "      <td>5.789482</td>\n",
       "      <td>45.277074</td>\n",
       "      <td>16.3</td>\n",
       "      <td>221.5</td>\n",
       "      <td>-7.023784</td>\n",
       "      <td>-3.1</td>\n",
       "      <td>2.267505</td>\n",
       "      <td>-89.9</td>\n",
       "      <td>BOS</td>\n",
       "      <td>2012</td>\n",
       "      <td>39</td>\n",
       "      <td>-17.0</td>\n",
       "    </tr>\n",
       "  </tbody>\n",
       "</table>\n",
       "</div>"
      ],
      "text/plain": [
       "    Tm  Year        Age     BPM_A       WORP  VORP    PER   WORP_Chg  \\\n",
       "1  ATL  2012  28.666667 -1.026931  26.987068   9.8  222.3 -16.833053   \n",
       "2  ATL  2013  26.888889 -2.037678  28.595704  10.7  245.5   1.608636   \n",
       "3  ATL  2014  25.739130  0.746189  28.556464  10.4  265.2  -0.039241   \n",
       "4  ATL  2015  26.631579 -1.173145  24.713699   9.1  218.3  -3.842764   \n",
       "6  BOS  2012  28.421053  5.789482  45.277074  16.3  221.5  -7.023784   \n",
       "\n",
       "   VORP_Chg  BPM_A_Chg  PER_Chg ABBR    YR   W  Win_Delta  \n",
       "1      -6.8  -4.798933     -1.8  ATL  2012  40       -4.0  \n",
       "2       0.9  -1.010747     23.2  ATL  2013  44        4.0  \n",
       "3      -0.3   2.783867     19.7  ATL  2014  38       -6.0  \n",
       "4      -1.3  -1.919334    -46.9  ATL  2015  60       22.0  \n",
       "6      -3.1   2.267505    -89.9  BOS  2012  39      -17.0  "
      ]
     },
     "execution_count": 1,
     "metadata": {},
     "output_type": "execute_result"
    }
   ],
   "source": [
    "import pandas as pd\n",
    "import seaborn as sns\n",
    "import matplotlib.pyplot as plt\n",
    "import scipy\n",
    "import numpy as np\n",
    "\n",
    "\n",
    "# the first step is to un-pickle the data that was saved at the end of the Data Wrangling Notebook\n",
    "\n",
    "hoops_data = pd.read_pickle('C://Users/Home Office/hoops_data.pickle')\n",
    "hoops_data1 = hoops_data.dropna()\n",
    "hoops_data1.head()"
   ]
  },
  {
   "cell_type": "markdown",
   "metadata": {},
   "source": [
    "One reasonable way to examine the relationship between the chosen variables and change in wins is by looking at Pearson correlation coefficients as shown below."
   ]
  },
  {
   "cell_type": "code",
   "execution_count": 2,
   "metadata": {},
   "outputs": [
    {
     "name": "stdout",
     "output_type": "stream",
     "text": [
      "WORP_Pearson =  (0.3340651515935038, 0.00019230714271517446)\n",
      "VORP_Pearson =  (0.3270537732683617, 0.0002663617564581372)\n",
      "BPM_A_Pearson =  (0.27241342726842066, 0.0026120697699333027)\n",
      "PER_Pearson =  (-0.0815333961917619, 0.37600556347916425)\n"
     ]
    }
   ],
   "source": [
    "WORP_Pearson =(scipy.stats.pearsonr(hoops_data1['WORP_Chg'], hoops_data1['Win_Delta']))\n",
    "VORP_Pearson = (scipy.stats.pearsonr(hoops_data1['VORP_Chg'], hoops_data1['Win_Delta']))\n",
    "BPM_A_Pearson =(scipy.stats.pearsonr(hoops_data1['BPM_A_Chg'], hoops_data1['Win_Delta']))\n",
    "PER_Pearson = (scipy.stats.pearsonr(hoops_data1['PER_Chg'], hoops_data1['Win_Delta']))\n",
    "\n",
    "print(\"WORP_Pearson = \", WORP_Pearson)\n",
    "print(\"VORP_Pearson = \", VORP_Pearson)\n",
    "print(\"BPM_A_Pearson = \", BPM_A_Pearson)\n",
    "print(\"PER_Pearson = \", PER_Pearson)"
   ]
  },
  {
   "cell_type": "markdown",
   "metadata": {},
   "source": [
    "Change in WORP, VORP, BPM_A, all seem to show reasonable correlation to change in wins, PER however does not seem to be an effective predictor of Win_Delta."
   ]
  },
  {
   "cell_type": "code",
   "execution_count": 3,
   "metadata": {},
   "outputs": [
    {
     "name": "stdout",
     "output_type": "stream",
     "text": [
      "[-7.25193738  3.53394982]\n",
      "[-2.773  1.27 ]\n",
      "[-3.02092912  1.70001778]\n",
      "[-14.733  18.454]\n"
     ]
    }
   ],
   "source": [
    "#break each stat category into thirds for later analysis\n",
    "\n",
    "print(np.percentile(hoops_data1['WORP_Chg'], [33,66]))\n",
    "print(np.percentile(hoops_data1['VORP_Chg'], [33,66]))\n",
    "print(np.percentile(hoops_data1['BPM_A_Chg'], [33,66]))\n",
    "print(np.percentile(hoops_data1['PER_Chg'], [33,66]))"
   ]
  },
  {
   "cell_type": "code",
   "execution_count": 4,
   "metadata": {},
   "outputs": [],
   "source": [
    "#build new dataframes of top and bottom 3rds based on each stat\n",
    "\n",
    "#WORP\n",
    "bad_teams = hoops_data1[hoops_data1['WORP_Chg'] <=-7.2536]\n",
    "good_teams = hoops_data1[hoops_data1['WORP_Chg'] >=3.5362]\n",
    "\n",
    "#VORP\n",
    "low_VORP = hoops_data1[hoops_data1['VORP_Chg'] <=-2.773]\n",
    "top_VORP = hoops_data1[hoops_data1['VORP_Chg'] <= 1.27]\n",
    "\n",
    "#BPM_A\n",
    "low_BPM_A = hoops_data1[hoops_data1['BPM_A_Chg'] <=-3.0225]\n",
    "top_BPM_A = hoops_data1[hoops_data1['BPM_A_Chg'] <=1.7]\n",
    "\n",
    "#PER_Chg\n",
    "\n",
    "low_PER = hoops_data1[hoops_data1['PER_Chg'] <=-14.733]\n",
    "top_PER = hoops_data1[hoops_data1['PER_Chg'] <=18.454]\n"
   ]
  },
  {
   "cell_type": "code",
   "execution_count": 5,
   "metadata": {},
   "outputs": [
    {
     "name": "stdout",
     "output_type": "stream",
     "text": [
      "Bottom 3rd of NBA (in WORP_Chg):\n",
      "Mean Change in Wins:  -5.65\n",
      "Standard Deviation:  13.889834412259924\n",
      "95% Confidence Interval: [-25.05  24.05]\n",
      "Margin of Error: 4.304504280402099\n",
      "\n",
      "Top 3rd of NBA (in WORP_Chg)\n",
      "Mean Change in Wins:  2.902439024390244\n",
      "Standard Deviation:  9.570801322438946\n",
      "95% Confidence Interval: [-12.  21.]\n",
      "Margin of Error: 2.9296277717549226\n",
      "\n",
      "Difference in Win Delta Between Bottom and Top 3rd of League in Terms of Change in WORP:  -8.5524\n"
     ]
    }
   ],
   "source": [
    "print ('Bottom 3rd of NBA (in WORP_Chg):')\n",
    "print ('Mean Change in Wins: ', np.mean(bad_teams['Win_Delta']))\n",
    "print ('Standard Deviation: ', np.std(bad_teams['Win_Delta']))\n",
    "print ('95% Confidence Interval:', np.percentile(bad_teams['Win_Delta'], [2.5, 97.5]))\n",
    "print ('Margin of Error:', 1.96 * np.std(bad_teams['Win_Delta'])/ np.sqrt(len(bad_teams['Win_Delta'])))\n",
    "print('')\n",
    "print('Top 3rd of NBA (in WORP_Chg)')\n",
    "print ('Mean Change in Wins: ', np.mean(good_teams['Win_Delta']))\n",
    "print ('Standard Deviation: ', np.std(good_teams['Win_Delta']))\n",
    "print ('95% Confidence Interval:', np.percentile(good_teams['Win_Delta'], [2.5, 97.5]))\n",
    "print ('Margin of Error:', 1.96 * np.std(good_teams['Win_Delta'])/ np.sqrt(len(good_teams['Win_Delta'])))\n",
    "\n",
    "mean_diff = np.mean(bad_teams['Win_Delta'])- np.mean(good_teams['Win_Delta'])\n",
    "print('')\n",
    "print('Difference in Win Delta Between Bottom and Top 3rd of League in Terms of Change in WORP: ', round(mean_diff, 4))\n"
   ]
  },
  {
   "cell_type": "markdown",
   "metadata": {},
   "source": [
    "The null hypothesesis here would be that there is no statistical significance to the offseason WORP_Chg and its relationship with Win_Delta.  I'll apply an α of 0.05 here."
   ]
  },
  {
   "cell_type": "code",
   "execution_count": 6,
   "metadata": {},
   "outputs": [
    {
     "name": "stdout",
     "output_type": "stream",
     "text": [
      "Ttest_indResult(statistic=-3.193375164768479, pvalue=0.0020200360406933547)\n"
     ]
    }
   ],
   "source": [
    "# run a t-test for statistical significance\n",
    "\n",
    "difference =scipy.stats.ttest_ind(bad_teams['Win_Delta'], good_teams['Win_Delta'])\n",
    "print(difference)"
   ]
  },
  {
   "cell_type": "markdown",
   "metadata": {},
   "source": [
    "A p-value of .002 shows no statistical significance to the null hypotheses, and therefore the null hypotheses can be ruled out.  This same test can be applied to each of the statistics."
   ]
  },
  {
   "cell_type": "code",
   "execution_count": 25,
   "metadata": {},
   "outputs": [],
   "source": [
    "#build function that shows means, standard deviations, confidence intervals, and margins of error \n",
    "    #for 2 samples\n",
    "\n",
    "def comparison(sample1, sample2, portion):\n",
    "\n",
    "    print ('Bottom', portion,'of NBA')\n",
    "    print ('Mean Change in Wins: ', np.mean(sample1))\n",
    "    print ('Standard Deviation: ', np.std(sample1))\n",
    "    print ('95% Confidence Interval:', np.percentile(sample1, [2.5, 97.5]))\n",
    "    print ('Margin of Error:', 1.96 * np.std(sample1)/ np.sqrt(len(sample1)))\n",
    "    print('')\n",
    "    print('Top ', portion, ' of NBA')\n",
    "    print ('Mean Change in Wins: ', np.mean(sample2))\n",
    "    print ('Standard Deviation: ', np.std(sample2))\n",
    "    print ('95% Confidence Interval:', np.percentile(sample2, [2.5, 97.5]))\n",
    "    print ('Margin of Error:', 1.96 * np.std(sample2)/ np.sqrt(len(sample2)))\n",
    "\n",
    "    mean_diff = np.mean(sample1)- np.mean(sample2)\n",
    "    print('')\n",
    "    print('Difference in Win Delta Between Bottom and Top 3rd of League ', round(mean_diff, 4))\n",
    "\n",
    "    difference =scipy.stats.ttest_ind(sample1, sample2)\n",
    "    print(difference)"
   ]
  },
  {
   "cell_type": "code",
   "execution_count": 8,
   "metadata": {},
   "outputs": [
    {
     "name": "stdout",
     "output_type": "stream",
     "text": [
      "Bottom third of NBA\n",
      "Mean Change in Wins:  -6.55\n",
      "Standard Deviation:  13.421903739782968\n",
      "95% Confidence Interval: [-25.05  24.05]\n",
      "Margin of Error: 4.159491062618118\n",
      "\n",
      "Top  third  of NBA\n",
      "Mean Change in Wins:  -1.4050632911392404\n",
      "Standard Deviation:  13.330766724074442\n",
      "95% Confidence Interval: [-24.05  24.1 ]\n",
      "Margin of Error: 2.939663732859387\n",
      "\n",
      "Difference in Win Delta Between Bottom and Top 3rd of League  -5.1449\n",
      "Ttest_indResult(statistic=-1.9675025066754743, pvalue=0.051491643989810154)\n"
     ]
    }
   ],
   "source": [
    "comparison(low_VORP['Win_Delta'], top_VORP['Win_Delta'], 'third')"
   ]
  },
  {
   "cell_type": "code",
   "execution_count": 9,
   "metadata": {},
   "outputs": [
    {
     "name": "stdout",
     "output_type": "stream",
     "text": [
      "Bottom third of NBA\n",
      "Mean Change in Wins:  -5.75\n",
      "Standard Deviation:  13.04367662892637\n",
      "95% Confidence Interval: [-24.075  20.15 ]\n",
      "Margin of Error: 4.042277266591197\n",
      "\n",
      "Top  third  of NBA\n",
      "Mean Change in Wins:  -0.8227848101265823\n",
      "Standard Deviation:  13.221347806273489\n",
      "95% Confidence Interval: [-24.05  23.05]\n",
      "Margin of Error: 2.9155349763515335\n",
      "\n",
      "Difference in Win Delta Between Bottom and Top 3rd of League  -4.9272\n",
      "Ttest_indResult(statistic=-1.912813604122864, pvalue=0.058216219851643186)\n"
     ]
    }
   ],
   "source": [
    "comparison(low_BPM_A['Win_Delta'], top_BPM_A['Win_Delta'], 'third')"
   ]
  },
  {
   "cell_type": "code",
   "execution_count": 10,
   "metadata": {},
   "outputs": [
    {
     "name": "stdout",
     "output_type": "stream",
     "text": [
      "Bottom third of NBA\n",
      "Mean Change in Wins:  1.4\n",
      "Standard Deviation:  13.652472303579303\n",
      "95% Confidence Interval: [-23.1    26.025]\n",
      "Margin of Error: 4.230945000824283\n",
      "\n",
      "Top  third  of NBA\n",
      "Mean Change in Wins:  0.22784810126582278\n",
      "Standard Deviation:  13.211952171403677\n",
      "95% Confidence Interval: [-23.1  24.1]\n",
      "Margin of Error: 2.913463076989279\n",
      "\n",
      "Difference in Win Delta Between Bottom and Top 3rd of League  1.1722\n",
      "Ttest_indResult(statistic=0.44824290246357995, pvalue=0.6548068737299935)\n"
     ]
    }
   ],
   "source": [
    "comparison(low_PER['Win_Delta'], top_PER['Win_Delta'], 'third')\n"
   ]
  },
  {
   "cell_type": "markdown",
   "metadata": {},
   "source": [
    "While a WORP comparison was able to invalidate the null hypotheses that the metric has no statistically significant relationionship to Win_Delta, the t-tests for VORP and BPM_A showed a p-value slightly above where I would like.  PER on the other hand was nowhere close to rejecting the null hypothesis.  It is possible that breaking the league into 3rds did not provide enough granularity, and that in using groups that large, they were too similar to each other to invalidate the null hypothesis. Breaking the league into quarters may give a better picture of statistical significance in this case. "
   ]
  },
  {
   "cell_type": "code",
   "execution_count": 26,
   "metadata": {},
   "outputs": [
    {
     "name": "stdout",
     "output_type": "stream",
     "text": [
      "[-9.74905475  7.87974009]\n",
      "[-3.925  2.925]\n",
      "[-3.62909045  2.83028455]\n",
      "[-22.275  28.275]\n"
     ]
    }
   ],
   "source": [
    "#break each stat category into quarters for later analysis\n",
    "\n",
    "print(np.percentile(hoops_data1['WORP_Chg'], [25,75]))\n",
    "print(np.percentile(hoops_data1['VORP_Chg'], [25, 75]))\n",
    "print(np.percentile(hoops_data1['BPM_A_Chg'], [25, 75]))\n",
    "print(np.percentile(hoops_data1['PER_Chg'], [25,75]))"
   ]
  },
  {
   "cell_type": "code",
   "execution_count": 12,
   "metadata": {},
   "outputs": [],
   "source": [
    "#WORP\n",
    "low25WORP = hoops_data1[hoops_data1['WORP_Chg'] <=-9.7525]\n",
    "high25WORP = hoops_data1[hoops_data1['WORP_Chg'] >=7.8775]\n",
    "\n",
    "#VORP\n",
    "low25VORP = hoops_data1[hoops_data1['VORP_Chg'] <=-3.925]\n",
    "top25VORP = hoops_data1[hoops_data1['VORP_Chg'] <= 2.925]\n",
    "\n",
    "#BPM_A\n",
    "low25BPM_A = hoops_data1[hoops_data1['BPM_A_Chg'] <=-3.6275]\n",
    "top25BPM_A = hoops_data1[hoops_data1['BPM_A_Chg'] <=2.8275]\n",
    "\n",
    "#PER_Chg\n",
    "\n",
    "low25PER = hoops_data1[hoops_data1['PER_Chg'] <=--22.275]\n",
    "top25PER = hoops_data1[hoops_data1['PER_Chg'] <=28.275]"
   ]
  },
  {
   "cell_type": "code",
   "execution_count": 13,
   "metadata": {},
   "outputs": [
    {
     "name": "stdout",
     "output_type": "stream",
     "text": [
      "Bottom quarter of NBA\n",
      "Mean Change in Wins:  -7.666666666666667\n",
      "Standard Deviation:  13.317490587777996\n",
      "95% Confidence Interval: [-25.55   23.825]\n",
      "Margin of Error: 4.765602802801978\n",
      "\n",
      "Top  quarter  of NBA\n",
      "Mean Change in Wins:  2.933333333333333\n",
      "Standard Deviation:  9.532167760914735\n",
      "95% Confidence Interval: [-13.75  20.55]\n",
      "Margin of Error: 3.411042425656654\n",
      "\n",
      "Difference in Win Delta Between Bottom and Top 3rd of League  -10.6\n",
      "Ttest_indResult(statistic=-3.4854678745702445, pvalue=0.0009427466782647643)\n"
     ]
    }
   ],
   "source": [
    "comparison(low25WORP['Win_Delta'], high25WORP['Win_Delta'], 'quarter')"
   ]
  },
  {
   "cell_type": "code",
   "execution_count": 14,
   "metadata": {},
   "outputs": [
    {
     "name": "stdout",
     "output_type": "stream",
     "text": [
      "Bottom quarter of NBA\n",
      "Mean Change in Wins:  -7.866666666666666\n",
      "Standard Deviation:  13.45544086564572\n",
      "95% Confidence Interval: [-25.55   23.825]\n",
      "Margin of Error: 4.814967675750119\n",
      "\n",
      "Top  quarter  of NBA\n",
      "Mean Change in Wins:  -0.6444444444444445\n",
      "Standard Deviation:  13.008809930292207\n",
      "95% Confidence Interval: [-23.775  23.775]\n",
      "Margin of Error: 2.687647976492055\n",
      "\n",
      "Difference in Win Delta Between Bottom and Top 3rd of League  -7.2222\n",
      "Ttest_indResult(statistic=-2.588904301725769, pvalue=0.01083882393828608)\n"
     ]
    }
   ],
   "source": [
    "comparison(low25VORP['Win_Delta'], top25VORP['Win_Delta'], \"quarter\")"
   ]
  },
  {
   "cell_type": "code",
   "execution_count": 15,
   "metadata": {},
   "outputs": [
    {
     "name": "stdout",
     "output_type": "stream",
     "text": [
      "Bottom quarter of NBA\n",
      "Mean Change in Wins:  -6.433333333333334\n",
      "Standard Deviation:  12.566312992370603\n",
      "95% Confidence Interval: [-24.825  17.3  ]\n",
      "Margin of Error: 4.496797352519861\n",
      "\n",
      "Top  quarter  of NBA\n",
      "Mean Change in Wins:  -0.6666666666666666\n",
      "Standard Deviation:  13.051181300301266\n",
      "95% Confidence Interval: [-23.775  23.775]\n",
      "Margin of Error: 2.696401992230333\n",
      "\n",
      "Difference in Win Delta Between Bottom and Top 3rd of League  -5.7667\n",
      "Ttest_indResult(statistic=-2.097548048913632, pvalue=0.03807968253163594)\n"
     ]
    }
   ],
   "source": [
    "comparison(low25BPM_A['Win_Delta'], top25BPM_A['Win_Delta'], 'quarter')"
   ]
  },
  {
   "cell_type": "code",
   "execution_count": 16,
   "metadata": {},
   "outputs": [
    {
     "name": "stdout",
     "output_type": "stream",
     "text": [
      "Bottom quarter of NBA\n",
      "Mean Change in Wins:  0.16470588235294117\n",
      "Standard Deviation:  12.762857008959312\n",
      "95% Confidence Interval: [-22.8  23.9]\n",
      "Margin of Error: 2.7132793657470367\n",
      "\n",
      "Top  quarter  of NBA\n",
      "Mean Change in Wins:  -0.2222222222222222\n",
      "Standard Deviation:  12.864920242252035\n",
      "95% Confidence Interval: [-22.55   23.775]\n",
      "Margin of Error: 2.65792005895221\n",
      "\n",
      "Difference in Win Delta Between Bottom and Top 3rd of League  0.3869\n",
      "Ttest_indResult(statistic=0.1984779186386028, pvalue=0.8429042082506368)\n"
     ]
    }
   ],
   "source": [
    "comparison(low25PER['Win_Delta'], top25PER['Win_Delta'], 'quarter')"
   ]
  },
  {
   "cell_type": "markdown",
   "metadata": {},
   "source": [
    "It seems that breaking the league into 4 groups instead of 3 and examining the teams that won and lost the most in relation to each other was a more effective way of invalidating the null hypothesis.  It once again appears that changes in WORP, VORP, and BPM_A have a direct relationship with change in wins.  John Hollinger's PER statistic, however, does not."
   ]
  },
  {
   "cell_type": "markdown",
   "metadata": {},
   "source": [
    "Another way of looking at how the factors examined in the data set correlate to each other is with a heat map.  The following table shows a strong correlation between WORP, VORP and BPM_A and also a relationships between those stats and change in wins.  Again, PER seems to be the \"odd stat out.\""
   ]
  },
  {
   "cell_type": "code",
   "execution_count": 17,
   "metadata": {},
   "outputs": [
    {
     "data": {
      "text/plain": [
       "<matplotlib.axes._subplots.AxesSubplot at 0x99bad68>"
      ]
     },
     "execution_count": 17,
     "metadata": {},
     "output_type": "execute_result"
    },
    {
     "data": {
      "image/png": "[encoded data removed]",
      "text/plain": [
       "<Figure size 792x648 with 2 Axes>"
      ]
     },
     "metadata": {},
     "output_type": "display_data"
    }
   ],
   "source": [
    "# Compute the correlation matrix\n",
    "corr = hoops_data1.corr()\n",
    "\n",
    "# Generate a mask for the upper triangle\n",
    "mask = np.zeros_like(corr, dtype=np.bool)\n",
    "mask[np.triu_indices_from(mask)] = True\n",
    "\n",
    "# Set up the matplotlib figure\n",
    "f, ax = plt.subplots(figsize=(11, 9))\n",
    "\n",
    "# Generate a custom diverging colormap\n",
    "cmap = sns.diverging_palette(220, 10, as_cmap=True)\n",
    "\n",
    "# Draw the heatmap with the mask and correct aspect ratio\n",
    "sns.heatmap(corr, mask=mask, cmap=cmap, vmax=.3, center=0,\n",
    "            square=True, linewidths=.5, cbar_kws={\"shrink\": .5}, annot = True)"
   ]
  },
  {
   "cell_type": "markdown",
   "metadata": {},
   "source": [
    "One statistic that appears to have a positive relationship to wins is the average age of the players on the team.  It might be of interest to further explore that relationship."
   ]
  },
  {
   "cell_type": "code",
   "execution_count": 18,
   "metadata": {},
   "outputs": [
    {
     "data": {
      "text/plain": [
       "<seaborn.axisgrid.PairGrid at 0x9994240>"
      ]
     },
     "execution_count": 18,
     "metadata": {},
     "output_type": "execute_result"
    },
    {
     "data": {
      "image/png": "[encoded data removed]",
      "text/plain": [
       "<Figure size 419.875x360 with 1 Axes>"
      ]
     },
     "metadata": {},
     "output_type": "display_data"
    }
   ],
   "source": [
    "\n",
    "sns.pairplot(x_vars=[\"Age\"], y_vars=[\"W\"], data=hoops_data1, hue=\"Tm\", size=5)"
   ]
  },
  {
   "cell_type": "markdown",
   "metadata": {},
   "source": [
    "Once again my analysis of age provided unexpected results.  I expected to find a \"peak age\", after which performance tailed off.  Instead it appears that while there are not many with an average age of above 29, most of them tend to be particularly successful."
   ]
  },
  {
   "cell_type": "code",
   "execution_count": 19,
   "metadata": {},
   "outputs": [
    {
     "name": "stdout",
     "output_type": "stream",
     "text": [
      "      Tm  Year        Age      BPM_A       WORP  VORP    PER  WORP_Chg  \\\n",
      "62   LAC  2013  28.666667   3.513465  41.206340  15.1  239.9  1.351885   \n",
      "63   LAC  2014  28.238095   3.138415  44.723745  16.7  274.7  3.517405   \n",
      "77   MIA  2013  29.473684   6.784527  54.876998  20.1  234.9  0.097098   \n",
      "78   MIA  2014  29.684211   6.777464  48.993763  18.5  250.2 -5.883236   \n",
      "97   NYK  2013  31.210526   3.862652  47.457612  17.5  251.2  8.128390   \n",
      "132  SAS  2013  28.055556   6.032622  48.463249  18.1  268.2 -6.102520   \n",
      "134  SAS  2015  28.105263  10.094512  54.466164  20.2  270.7  4.783020   \n",
      "\n",
      "     VORP_Chg  BPM_A_Chg  PER_Chg ABBR    YR   W  Win_Delta  \n",
      "62        0.4   1.111687    -33.5  LAC  2013  56       16.0  \n",
      "63        1.6  -0.375051     34.8  LAC  2014  57        1.0  \n",
      "77       -0.2  -3.454243     45.5  MIA  2013  66       20.0  \n",
      "78       -1.6  -0.007063     15.3  MIA  2014  54      -12.0  \n",
      "97        2.9   1.132190    -92.5  NYK  2013  54       18.0  \n",
      "132      -2.3  -1.420757    -22.1  SAS  2013  58        8.0  \n",
      "134       2.0   2.366057     -5.5  SAS  2015  55       -7.0  \n"
     ]
    }
   ],
   "source": [
    "# take a look at teams whose average age was above 28\n",
    "\n",
    "oldest = hoops_data1[hoops_data1['Age'] > 28] \n",
    "oldest = oldest[oldest['W'] > 50]\n",
    "print(oldest)"
   ]
  },
  {
   "cell_type": "markdown",
   "metadata": {},
   "source": [
    "Looking at the teams that played well with an unusually high average age gives some insight into why those teams did well.  The Heat, Lakers and Spurs appear twice each.  Each of those teams was built around a superstar in his 30's (LeBron James, Kobe Bryant, and Tim Duncan respectively), and had veteran free agents brought in with a short term goal of competing for a championship."
   ]
  },
  {
   "cell_type": "markdown",
   "metadata": {},
   "source": [
    "The scatter plot above may not give the best representation of the of team performance by age.  The boxplot and swarmplot below give a clearer picture of the distribution of wins by age."
   ]
  },
  {
   "cell_type": "code",
   "execution_count": 41,
   "metadata": {},
   "outputs": [
    {
     "data": {
      "text/plain": [
       "Text(0.5,1,'Swarmplot of Win Totals by Age')"
      ]
     },
     "execution_count": 41,
     "metadata": {},
     "output_type": "execute_result"
    },
    {
     "data": {
      "image/png": "[encoded data removed]",
      "text/plain": [
       "<Figure size 792x360 with 2 Axes>"
      ]
     },
     "metadata": {},
     "output_type": "display_data"
    }
   ],
   "source": [
    "hoops_data2 = hoops_data1.copy()\n",
    "hoops_data2['Age']= hoops_data2['Age'].round()\n",
    "\n",
    "plt.rcParams['figure.figsize']=(11,5)\n",
    "fig = plt.figure()\n",
    "\n",
    "ax1 = fig.add_subplot (1,2,1)\n",
    "sns.boxplot(x = 'Age', y = 'W', data = hoops_data2)\n",
    "plt.ylabel('Wins')\n",
    "plt.title('Boxplot of Win Totals by Age')\n",
    "\n",
    "ax2 = fig.add_subplot(1,2,2)\n",
    "sns.swarmplot(x = 'Age', y = 'W', data = hoops_data2)\n",
    "plt.ylabel('Wins')\n",
    "plt.title('Swarmplot of Win Totals by Age')"
   ]
  },
  {
   "cell_type": "markdown",
   "metadata": {},
   "source": [
    "Unfortunately, I was not able to create an 'age target' that would be useful for quantatative assesment when building a team.  The data did provide some guidelines though.  Teams with an average age below 27 tend to lose more games than they win.  Also, adding veteran players to a team with an older superstar seems to be a successful NBA formula."
   ]
  },
  {
   "cell_type": "markdown",
   "metadata": {},
   "source": [
    "Overall, the inferential statistical analysis in this notebook seems to cement the relationship between a team's change in WORP, VORP, and BPM_A in the offseason, and its change in wins in the coming year.  Looking forward, it may be possible to model team results based on those factors."
   ]
  },
  {
   "cell_type": "code",
   "execution_count": null,
   "metadata": {},
   "outputs": [],
   "source": []
  }
 ],
 "metadata": {
  "kernelspec": {
   "display_name": "Python 3",
   "language": "python",
   "name": "python3"
  },
  "language_info": {
   "codemirror_mode": {
    "name": "ipython",
    "version": 3
   },
   "file_extension": ".py",
   "mimetype": "text/x-python",
   "name": "python",
   "nbconvert_exporter": "python",
   "pygments_lexer": "ipython3",
   "version": "3.6.5"
  }
 },
 "nbformat": 4,
 "nbformat_minor": 2
}
