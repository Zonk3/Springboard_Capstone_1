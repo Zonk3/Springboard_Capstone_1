{
 "cells": [
  {
   "cell_type": "markdown",
   "metadata": {},
   "source": [
    "## <center>NBA Analytics Data Analysis Project<center>\n",
    "### <center>Machine Learning Notebook<center>  \n",
    "    \n",
    "#### <center>presented by Brian Zamkotowicz for Springboard Capstone Project<center>"
   ]
  },
  {
   "cell_type": "markdown",
   "metadata": {},
   "source": [
    "The intent of this notebook is to focus on building an appropriate predictive model that looks at the NBA statistics WORP, VORP, BPM_A and PER and how they relate to team wins.  By applying linear regression techniques to the data at hand I will attempt to build a model that could be useful for optimizing offseason NBA transactions in a way that translates into the maximum number of wins the next season."
   ]
  },
  {
   "cell_type": "code",
   "execution_count": 1,
   "metadata": {},
   "outputs": [
    {
     "data": {
      "text/html": [
       "<div>\n",
       "<style scoped>\n",
       "    .dataframe tbody tr th:only-of-type {\n",
       "        vertical-align: middle;\n",
       "    }\n",
       "\n",
       "    .dataframe tbody tr th {\n",
       "        vertical-align: top;\n",
       "    }\n",
       "\n",
       "    .dataframe thead th {\n",
       "        text-align: right;\n",
       "    }\n",
       "</style>\n",
       "<table border=\"1\" class=\"dataframe\">\n",
       "  <thead>\n",
       "    <tr style=\"text-align: right;\">\n",
       "      <th></th>\n",
       "      <th>Tm</th>\n",
       "      <th>Year</th>\n",
       "      <th>Age</th>\n",
       "      <th>BPM_A</th>\n",
       "      <th>WORP</th>\n",
       "      <th>VORP</th>\n",
       "      <th>PER</th>\n",
       "      <th>WORP_Chg</th>\n",
       "      <th>VORP_Chg</th>\n",
       "      <th>BPM_A_Chg</th>\n",
       "      <th>PER_Chg</th>\n",
       "      <th>ABBR</th>\n",
       "      <th>YR</th>\n",
       "      <th>W</th>\n",
       "      <th>Win_Delta</th>\n",
       "    </tr>\n",
       "  </thead>\n",
       "  <tbody>\n",
       "    <tr>\n",
       "      <th>1</th>\n",
       "      <td>ATL</td>\n",
       "      <td>2012</td>\n",
       "      <td>28.666667</td>\n",
       "      <td>-1.026931</td>\n",
       "      <td>26.987068</td>\n",
       "      <td>9.8</td>\n",
       "      <td>222.3</td>\n",
       "      <td>-16.833053</td>\n",
       "      <td>-6.8</td>\n",
       "      <td>-4.798933</td>\n",
       "      <td>-1.8</td>\n",
       "      <td>ATL</td>\n",
       "      <td>2012</td>\n",
       "      <td>40</td>\n",
       "      <td>-4.0</td>\n",
       "    </tr>\n",
       "    <tr>\n",
       "      <th>2</th>\n",
       "      <td>ATL</td>\n",
       "      <td>2013</td>\n",
       "      <td>26.888889</td>\n",
       "      <td>-2.037678</td>\n",
       "      <td>28.595704</td>\n",
       "      <td>10.7</td>\n",
       "      <td>245.5</td>\n",
       "      <td>1.608636</td>\n",
       "      <td>0.9</td>\n",
       "      <td>-1.010747</td>\n",
       "      <td>23.2</td>\n",
       "      <td>ATL</td>\n",
       "      <td>2013</td>\n",
       "      <td>44</td>\n",
       "      <td>4.0</td>\n",
       "    </tr>\n",
       "    <tr>\n",
       "      <th>3</th>\n",
       "      <td>ATL</td>\n",
       "      <td>2014</td>\n",
       "      <td>25.739130</td>\n",
       "      <td>0.746189</td>\n",
       "      <td>28.556464</td>\n",
       "      <td>10.4</td>\n",
       "      <td>265.2</td>\n",
       "      <td>-0.039241</td>\n",
       "      <td>-0.3</td>\n",
       "      <td>2.783867</td>\n",
       "      <td>19.7</td>\n",
       "      <td>ATL</td>\n",
       "      <td>2014</td>\n",
       "      <td>38</td>\n",
       "      <td>-6.0</td>\n",
       "    </tr>\n",
       "    <tr>\n",
       "      <th>4</th>\n",
       "      <td>ATL</td>\n",
       "      <td>2015</td>\n",
       "      <td>26.631579</td>\n",
       "      <td>-1.173145</td>\n",
       "      <td>24.713699</td>\n",
       "      <td>9.1</td>\n",
       "      <td>218.3</td>\n",
       "      <td>-3.842764</td>\n",
       "      <td>-1.3</td>\n",
       "      <td>-1.919334</td>\n",
       "      <td>-46.9</td>\n",
       "      <td>ATL</td>\n",
       "      <td>2015</td>\n",
       "      <td>60</td>\n",
       "      <td>22.0</td>\n",
       "    </tr>\n",
       "    <tr>\n",
       "      <th>6</th>\n",
       "      <td>BOS</td>\n",
       "      <td>2012</td>\n",
       "      <td>28.421053</td>\n",
       "      <td>5.789482</td>\n",
       "      <td>45.277074</td>\n",
       "      <td>16.3</td>\n",
       "      <td>221.5</td>\n",
       "      <td>-7.023784</td>\n",
       "      <td>-3.1</td>\n",
       "      <td>2.267505</td>\n",
       "      <td>-89.9</td>\n",
       "      <td>BOS</td>\n",
       "      <td>2012</td>\n",
       "      <td>39</td>\n",
       "      <td>-17.0</td>\n",
       "    </tr>\n",
       "  </tbody>\n",
       "</table>\n",
       "</div>"
      ],
      "text/plain": [
       "    Tm  Year        Age     BPM_A       WORP  VORP    PER   WORP_Chg  \\\n",
       "1  ATL  2012  28.666667 -1.026931  26.987068   9.8  222.3 -16.833053   \n",
       "2  ATL  2013  26.888889 -2.037678  28.595704  10.7  245.5   1.608636   \n",
       "3  ATL  2014  25.739130  0.746189  28.556464  10.4  265.2  -0.039241   \n",
       "4  ATL  2015  26.631579 -1.173145  24.713699   9.1  218.3  -3.842764   \n",
       "6  BOS  2012  28.421053  5.789482  45.277074  16.3  221.5  -7.023784   \n",
       "\n",
       "   VORP_Chg  BPM_A_Chg  PER_Chg ABBR    YR   W  Win_Delta  \n",
       "1      -6.8  -4.798933     -1.8  ATL  2012  40       -4.0  \n",
       "2       0.9  -1.010747     23.2  ATL  2013  44        4.0  \n",
       "3      -0.3   2.783867     19.7  ATL  2014  38       -6.0  \n",
       "4      -1.3  -1.919334    -46.9  ATL  2015  60       22.0  \n",
       "6      -3.1   2.267505    -89.9  BOS  2012  39      -17.0  "
      ]
     },
     "execution_count": 1,
     "metadata": {},
     "output_type": "execute_result"
    }
   ],
   "source": [
    "# Import regression modules\n",
    "import statsmodels.api as sm\n",
    "from statsmodels.formula.api import ols\n",
    "\n",
    "#import other useful packages\n",
    "\n",
    "import pandas as pd\n",
    "import seaborn as sns\n",
    "import matplotlib.pyplot as plt\n",
    "import scipy\n",
    "import numpy as np\n",
    "\n",
    "\n",
    "# the first step is to un-pickle the data that was saved at the end of the Data Wrangling Notebook\n",
    "\n",
    "hoops_data = pd.read_pickle('C://Users/Home Office/hoops_data.pickle')\n",
    "hoops_data1 = hoops_data.dropna()\n",
    "hoops_data1.head()"
   ]
  },
  {
   "cell_type": "code",
   "execution_count": 2,
   "metadata": {},
   "outputs": [
    {
     "name": "stderr",
     "output_type": "stream",
     "text": [
      "C:\\Conda\\lib\\site-packages\\ipykernel_launcher.py:3: SettingWithCopyWarning: \n",
      "A value is trying to be set on a copy of a slice from a DataFrame.\n",
      "Try using .loc[row_indexer,col_indexer] = value instead\n",
      "\n",
      "See the caveats in the documentation: http://pandas.pydata.org/pandas-docs/stable/indexing.html#indexing-view-versus-copy\n",
      "  This is separate from the ipykernel package so we can avoid doing imports until\n"
     ]
    },
    {
     "data": {
      "text/html": [
       "<div>\n",
       "<style scoped>\n",
       "    .dataframe tbody tr th:only-of-type {\n",
       "        vertical-align: middle;\n",
       "    }\n",
       "\n",
       "    .dataframe tbody tr th {\n",
       "        vertical-align: top;\n",
       "    }\n",
       "\n",
       "    .dataframe thead th {\n",
       "        text-align: right;\n",
       "    }\n",
       "</style>\n",
       "<table border=\"1\" class=\"dataframe\">\n",
       "  <thead>\n",
       "    <tr style=\"text-align: right;\">\n",
       "      <th></th>\n",
       "      <th>Tm</th>\n",
       "      <th>Year</th>\n",
       "      <th>Age</th>\n",
       "      <th>BPM_A</th>\n",
       "      <th>WORP</th>\n",
       "      <th>VORP</th>\n",
       "      <th>PER</th>\n",
       "      <th>WORP_Chg</th>\n",
       "      <th>VORP_Chg</th>\n",
       "      <th>BPM_A_Chg</th>\n",
       "      <th>PER_Chg</th>\n",
       "      <th>ABBR</th>\n",
       "      <th>YR</th>\n",
       "      <th>W</th>\n",
       "      <th>Win_Delta</th>\n",
       "      <th>Prev_W</th>\n",
       "    </tr>\n",
       "  </thead>\n",
       "  <tbody>\n",
       "    <tr>\n",
       "      <th>1</th>\n",
       "      <td>ATL</td>\n",
       "      <td>2012</td>\n",
       "      <td>28.666667</td>\n",
       "      <td>-1.026931</td>\n",
       "      <td>26.987068</td>\n",
       "      <td>9.8</td>\n",
       "      <td>222.3</td>\n",
       "      <td>-16.833053</td>\n",
       "      <td>-6.8</td>\n",
       "      <td>-4.798933</td>\n",
       "      <td>-1.8</td>\n",
       "      <td>ATL</td>\n",
       "      <td>2012</td>\n",
       "      <td>40</td>\n",
       "      <td>-4.0</td>\n",
       "      <td>44.0</td>\n",
       "    </tr>\n",
       "    <tr>\n",
       "      <th>2</th>\n",
       "      <td>ATL</td>\n",
       "      <td>2013</td>\n",
       "      <td>26.888889</td>\n",
       "      <td>-2.037678</td>\n",
       "      <td>28.595704</td>\n",
       "      <td>10.7</td>\n",
       "      <td>245.5</td>\n",
       "      <td>1.608636</td>\n",
       "      <td>0.9</td>\n",
       "      <td>-1.010747</td>\n",
       "      <td>23.2</td>\n",
       "      <td>ATL</td>\n",
       "      <td>2013</td>\n",
       "      <td>44</td>\n",
       "      <td>4.0</td>\n",
       "      <td>40.0</td>\n",
       "    </tr>\n",
       "    <tr>\n",
       "      <th>3</th>\n",
       "      <td>ATL</td>\n",
       "      <td>2014</td>\n",
       "      <td>25.739130</td>\n",
       "      <td>0.746189</td>\n",
       "      <td>28.556464</td>\n",
       "      <td>10.4</td>\n",
       "      <td>265.2</td>\n",
       "      <td>-0.039241</td>\n",
       "      <td>-0.3</td>\n",
       "      <td>2.783867</td>\n",
       "      <td>19.7</td>\n",
       "      <td>ATL</td>\n",
       "      <td>2014</td>\n",
       "      <td>38</td>\n",
       "      <td>-6.0</td>\n",
       "      <td>44.0</td>\n",
       "    </tr>\n",
       "    <tr>\n",
       "      <th>4</th>\n",
       "      <td>ATL</td>\n",
       "      <td>2015</td>\n",
       "      <td>26.631579</td>\n",
       "      <td>-1.173145</td>\n",
       "      <td>24.713699</td>\n",
       "      <td>9.1</td>\n",
       "      <td>218.3</td>\n",
       "      <td>-3.842764</td>\n",
       "      <td>-1.3</td>\n",
       "      <td>-1.919334</td>\n",
       "      <td>-46.9</td>\n",
       "      <td>ATL</td>\n",
       "      <td>2015</td>\n",
       "      <td>60</td>\n",
       "      <td>22.0</td>\n",
       "      <td>38.0</td>\n",
       "    </tr>\n",
       "    <tr>\n",
       "      <th>6</th>\n",
       "      <td>BOS</td>\n",
       "      <td>2012</td>\n",
       "      <td>28.421053</td>\n",
       "      <td>5.789482</td>\n",
       "      <td>45.277074</td>\n",
       "      <td>16.3</td>\n",
       "      <td>221.5</td>\n",
       "      <td>-7.023784</td>\n",
       "      <td>-3.1</td>\n",
       "      <td>2.267505</td>\n",
       "      <td>-89.9</td>\n",
       "      <td>BOS</td>\n",
       "      <td>2012</td>\n",
       "      <td>39</td>\n",
       "      <td>-17.0</td>\n",
       "      <td>56.0</td>\n",
       "    </tr>\n",
       "  </tbody>\n",
       "</table>\n",
       "</div>"
      ],
      "text/plain": [
       "    Tm  Year        Age     BPM_A       WORP  VORP    PER   WORP_Chg  \\\n",
       "1  ATL  2012  28.666667 -1.026931  26.987068   9.8  222.3 -16.833053   \n",
       "2  ATL  2013  26.888889 -2.037678  28.595704  10.7  245.5   1.608636   \n",
       "3  ATL  2014  25.739130  0.746189  28.556464  10.4  265.2  -0.039241   \n",
       "4  ATL  2015  26.631579 -1.173145  24.713699   9.1  218.3  -3.842764   \n",
       "6  BOS  2012  28.421053  5.789482  45.277074  16.3  221.5  -7.023784   \n",
       "\n",
       "   VORP_Chg  BPM_A_Chg  PER_Chg ABBR    YR   W  Win_Delta  Prev_W  \n",
       "1      -6.8  -4.798933     -1.8  ATL  2012  40       -4.0    44.0  \n",
       "2       0.9  -1.010747     23.2  ATL  2013  44        4.0    40.0  \n",
       "3      -0.3   2.783867     19.7  ATL  2014  38       -6.0    44.0  \n",
       "4      -1.3  -1.919334    -46.9  ATL  2015  60       22.0    38.0  \n",
       "6      -3.1   2.267505    -89.9  BOS  2012  39      -17.0    56.0  "
      ]
     },
     "execution_count": 2,
     "metadata": {},
     "output_type": "execute_result"
    }
   ],
   "source": [
    "# add a column with previous season wins 'Prev_W'\n",
    "\n",
    "hoops_data1['Prev_W'] = hoops_data1['W'] - hoops_data1['Win_Delta']\n",
    "hoops_data1.head()"
   ]
  },
  {
   "cell_type": "markdown",
   "metadata": {},
   "source": [
    "Ideally, a model can be built that will predict the number of wins in a coming season based on metrics from the previous season.  That model could then be used for team construction.  A linear regression can fit the model based on past seasons' metrics.  Below is a predictive model using the changes in statistics to predict change in wins."
   ]
  },
  {
   "cell_type": "code",
   "execution_count": 3,
   "metadata": {},
   "outputs": [
    {
     "name": "stdout",
     "output_type": "stream",
     "text": [
      "                            OLS Regression Results                            \n",
      "==============================================================================\n",
      "Dep. Variable:              Win_Delta   R-squared:                       0.398\n",
      "Model:                            OLS   Adj. R-squared:                  0.366\n",
      "Method:                 Least Squares   F-statistic:                     12.45\n",
      "Date:                Mon, 04 Feb 2019   Prob (F-statistic):           9.93e-11\n",
      "Time:                        12:21:30   Log-Likelihood:                -440.70\n",
      "No. Observations:                 120   AIC:                             895.4\n",
      "Df Residuals:                     113   BIC:                             914.9\n",
      "Df Model:                           6                                         \n",
      "Covariance Type:            nonrobust                                         \n",
      "==============================================================================\n",
      "                 coef    std err          t      P>|t|      [0.025      0.975]\n",
      "------------------------------------------------------------------------------\n",
      "Intercept    -25.8932     18.460     -1.403      0.163     -62.467      10.680\n",
      "WORP_Chg       0.6722      0.906      0.742      0.460      -1.123       2.468\n",
      "VORP_Chg      -0.8442      2.485     -0.340      0.735      -5.768       4.080\n",
      "PER_Chg       -0.0329      0.023     -1.433      0.154      -0.078       0.013\n",
      "BPM_A_Chg     -0.2162      0.494     -0.438      0.662      -1.195       0.762\n",
      "Prev_W        -0.5621      0.086     -6.562      0.000      -0.732      -0.392\n",
      "Age            1.8126      0.751      2.413      0.017       0.325       3.301\n",
      "==============================================================================\n",
      "Omnibus:                        0.392   Durbin-Watson:                   2.351\n",
      "Prob(Omnibus):                  0.822   Jarque-Bera (JB):                0.335\n",
      "Skew:                           0.127   Prob(JB):                        0.846\n",
      "Kurtosis:                       2.954   Cond. No.                     1.01e+03\n",
      "==============================================================================\n",
      "\n",
      "Warnings:\n",
      "[1] Standard Errors assume that the covariance matrix of the errors is correctly specified.\n",
      "[2] The condition number is large, 1.01e+03. This might indicate that there are\n",
      "strong multicollinearity or other numerical problems.\n"
     ]
    }
   ],
   "source": [
    "# create a regression in statsmodel for change in stats vs win_delta\n",
    "\n",
    "m = ols('Win_Delta ~ WORP_Chg + VORP_Chg + PER_Chg + BPM_A_Chg + Prev_W +Age', hoops_data1).fit()\n",
    "print(m.summary())"
   ]
  },
  {
   "cell_type": "code",
   "execution_count": 4,
   "metadata": {},
   "outputs": [
    {
     "data": {
      "text/plain": [
       "Text(0.5,1,'Relationship Between Predicted and Actual Win_Delta')"
      ]
     },
     "execution_count": 4,
     "metadata": {},
     "output_type": "execute_result"
    },
    {
     "data": {
      "image/png": "[encoded data removed]",
      "text/plain": [
       "<Figure size 432x288 with 1 Axes>"
      ]
     },
     "metadata": {},
     "output_type": "display_data"
    }
   ],
   "source": [
    "plt.scatter(m.fittedvalues, hoops_data1.Win_Delta, alpha = 0.7)\n",
    "plt.xlabel(\"Predicted Change in Wins\")\n",
    "plt.ylabel(\"Actual Change in Wins\")\n",
    "plt.title(\"Relationship Between Predicted and Actual Win_Delta\")"
   ]
  },
  {
   "cell_type": "markdown",
   "metadata": {},
   "source": [
    "The above scatter shows a clear linear relationship between the predictions and the the actual change in wins."
   ]
  },
  {
   "cell_type": "markdown",
   "metadata": {},
   "source": [
    "The model below looks at outright wins predicted by using the outright statistics instead of changes."
   ]
  },
  {
   "cell_type": "code",
   "execution_count": 5,
   "metadata": {},
   "outputs": [
    {
     "name": "stdout",
     "output_type": "stream",
     "text": [
      "                            OLS Regression Results                            \n",
      "==============================================================================\n",
      "Dep. Variable:                      W   R-squared:                       0.561\n",
      "Model:                            OLS   Adj. R-squared:                  0.537\n",
      "Method:                 Least Squares   F-statistic:                     24.03\n",
      "Date:                Mon, 04 Feb 2019   Prob (F-statistic):           3.57e-18\n",
      "Time:                        12:21:30   Log-Likelihood:                -425.69\n",
      "No. Observations:                 120   AIC:                             865.4\n",
      "Df Residuals:                     113   BIC:                             884.9\n",
      "Df Model:                           6                                         \n",
      "Covariance Type:            nonrobust                                         \n",
      "==============================================================================\n",
      "                 coef    std err          t      P>|t|      [0.025      0.975]\n",
      "------------------------------------------------------------------------------\n",
      "Intercept     20.3690     18.301      1.113      0.268     -15.888      56.626\n",
      "WORP          -0.2857      1.233     -0.232      0.817      -2.728       2.157\n",
      "VORP           1.8795      3.377      0.557      0.579      -4.812       8.571\n",
      "PER           -0.0262      0.024     -1.084      0.281      -0.074       0.022\n",
      "BPM_A          0.5771      0.664      0.869      0.387      -0.738       1.892\n",
      "Age            0.6547      0.690      0.949      0.344      -0.711       2.021\n",
      "Prev_W        -0.0879      0.107     -0.819      0.415      -0.301       0.125\n",
      "==============================================================================\n",
      "Omnibus:                        2.422   Durbin-Watson:                   2.246\n",
      "Prob(Omnibus):                  0.298   Jarque-Bera (JB):                2.268\n",
      "Skew:                           0.255   Prob(JB):                        0.322\n",
      "Kurtosis:                       2.560   Cond. No.                     5.94e+03\n",
      "==============================================================================\n",
      "\n",
      "Warnings:\n",
      "[1] Standard Errors assume that the covariance matrix of the errors is correctly specified.\n",
      "[2] The condition number is large, 5.94e+03. This might indicate that there are\n",
      "strong multicollinearity or other numerical problems.\n"
     ]
    }
   ],
   "source": [
    "# try the same thing using totals instead of change\n",
    "\n",
    "m1 = ols('W ~ WORP + VORP + PER + BPM_A + Age + Prev_W', hoops_data1).fit()\n",
    "print(m1.summary())"
   ]
  },
  {
   "cell_type": "code",
   "execution_count": 6,
   "metadata": {},
   "outputs": [
    {
     "data": {
      "text/plain": [
       "Text(0.5,1,'Relationship Between Predicted and Actual Wins')"
      ]
     },
     "execution_count": 6,
     "metadata": {},
     "output_type": "execute_result"
    },
    {
     "data": {
      "image/png": "[encoded data removed]",
      "text/plain": [
       "<Figure size 432x288 with 1 Axes>"
      ]
     },
     "metadata": {},
     "output_type": "display_data"
    }
   ],
   "source": [
    "plt.scatter(m1.fittedvalues, hoops_data1.W, color = 'black', alpha = 0.5)\n",
    "plt.xlabel(\"Predicted Wins\")\n",
    "plt.ylabel(\"Actual Wins\")\n",
    "plt.title(\"Relationship Between Predicted and Actual Wins\")"
   ]
  },
  {
   "cell_type": "markdown",
   "metadata": {},
   "source": [
    "Looking at the scatterplots above, it is clear that there is a more linear relationship in the bottom graphic.  Also the AIC score of 895 in the first model is higher than the 865 AIC indicating that the second model is a better fit.  This is not surprising as a team with \"good players\" (statistically speaking) will generally do well.  Predicting win changes based on changes in stats definitely has more subtlety to it."
   ]
  },
  {
   "cell_type": "code",
   "execution_count": 7,
   "metadata": {},
   "outputs": [
    {
     "data": {
      "text/plain": [
       "LinearRegression(copy_X=True, fit_intercept=True, n_jobs=1, normalize=False)"
      ]
     },
     "execution_count": 7,
     "metadata": {},
     "output_type": "execute_result"
    }
   ],
   "source": [
    "from sklearn.linear_model import LinearRegression\n",
    "hoops_data1= hoops_data1.drop(['Tm', 'Year', 'ABBR'], axis = 1)\n",
    "X = hoops_data1.drop(['Win_Delta', 'W', 'YR'], axis = 1)\n",
    "\n",
    "# This creates a LinearRegression object\n",
    "lm = LinearRegression()\n",
    "lm"
   ]
  },
  {
   "cell_type": "code",
   "execution_count": 8,
   "metadata": {},
   "outputs": [
    {
     "data": {
      "text/plain": [
       "LinearRegression(copy_X=True, fit_intercept=True, n_jobs=1, normalize=False)"
      ]
     },
     "execution_count": 8,
     "metadata": {},
     "output_type": "execute_result"
    }
   ],
   "source": [
    "\n",
    "# Use all predictors to fit linear regression model\n",
    "lm.fit(X, hoops_data1.Win_Delta)"
   ]
  },
  {
   "cell_type": "markdown",
   "metadata": {},
   "source": [
    "Listed below is a brief examination of the coefficients of each metric on Win Delta."
   ]
  },
  {
   "cell_type": "code",
   "execution_count": 9,
   "metadata": {},
   "outputs": [
    {
     "name": "stdout",
     "output_type": "stream",
     "text": [
      "Estimated intercept coefficient: 28.386914964032748\n",
      "Number of coefficients: 10\n"
     ]
    },
    {
     "data": {
      "text/html": [
       "<div>\n",
       "<style scoped>\n",
       "    .dataframe tbody tr th:only-of-type {\n",
       "        vertical-align: middle;\n",
       "    }\n",
       "\n",
       "    .dataframe tbody tr th {\n",
       "        vertical-align: top;\n",
       "    }\n",
       "\n",
       "    .dataframe thead th {\n",
       "        text-align: right;\n",
       "    }\n",
       "</style>\n",
       "<table border=\"1\" class=\"dataframe\">\n",
       "  <thead>\n",
       "    <tr style=\"text-align: right;\">\n",
       "      <th></th>\n",
       "      <th>features</th>\n",
       "      <th>estimatedCoefficients</th>\n",
       "    </tr>\n",
       "  </thead>\n",
       "  <tbody>\n",
       "    <tr>\n",
       "      <th>0</th>\n",
       "      <td>Age</td>\n",
       "      <td>0.758396</td>\n",
       "    </tr>\n",
       "    <tr>\n",
       "      <th>1</th>\n",
       "      <td>BPM_A</td>\n",
       "      <td>1.679529</td>\n",
       "    </tr>\n",
       "    <tr>\n",
       "      <th>2</th>\n",
       "      <td>WORP</td>\n",
       "      <td>-0.542544</td>\n",
       "    </tr>\n",
       "    <tr>\n",
       "      <th>3</th>\n",
       "      <td>VORP</td>\n",
       "      <td>1.678068</td>\n",
       "    </tr>\n",
       "    <tr>\n",
       "      <th>4</th>\n",
       "      <td>PER</td>\n",
       "      <td>-0.021308</td>\n",
       "    </tr>\n",
       "    <tr>\n",
       "      <th>5</th>\n",
       "      <td>WORP_Chg</td>\n",
       "      <td>0.221574</td>\n",
       "    </tr>\n",
       "    <tr>\n",
       "      <th>6</th>\n",
       "      <td>VORP_Chg</td>\n",
       "      <td>0.081074</td>\n",
       "    </tr>\n",
       "    <tr>\n",
       "      <th>7</th>\n",
       "      <td>BPM_A_Chg</td>\n",
       "      <td>-0.844354</td>\n",
       "    </tr>\n",
       "    <tr>\n",
       "      <th>8</th>\n",
       "      <td>PER_Chg</td>\n",
       "      <td>0.008592</td>\n",
       "    </tr>\n",
       "    <tr>\n",
       "      <th>9</th>\n",
       "      <td>Prev_W</td>\n",
       "      <td>-1.131702</td>\n",
       "    </tr>\n",
       "  </tbody>\n",
       "</table>\n",
       "</div>"
      ],
      "text/plain": [
       "    features  estimatedCoefficients\n",
       "0        Age               0.758396\n",
       "1      BPM_A               1.679529\n",
       "2       WORP              -0.542544\n",
       "3       VORP               1.678068\n",
       "4        PER              -0.021308\n",
       "5   WORP_Chg               0.221574\n",
       "6   VORP_Chg               0.081074\n",
       "7  BPM_A_Chg              -0.844354\n",
       "8    PER_Chg               0.008592\n",
       "9     Prev_W              -1.131702"
      ]
     },
     "execution_count": 9,
     "metadata": {},
     "output_type": "execute_result"
    }
   ],
   "source": [
    "\n",
    "print('Estimated intercept coefficient: {}'.format(lm.intercept_))\n",
    "print('Number of coefficients: {}'.format(len(lm.coef_)))\n",
    "# The coefficients\n",
    "pd.DataFrame({'features': X.columns, 'estimatedCoefficients': lm.coef_})[['features', 'estimatedCoefficients']]"
   ]
  },
  {
   "cell_type": "code",
   "execution_count": 10,
   "metadata": {},
   "outputs": [
    {
     "data": {
      "text/plain": [
       "<matplotlib.collections.PathCollection at 0xc44cf28>"
      ]
     },
     "execution_count": 10,
     "metadata": {},
     "output_type": "execute_result"
    },
    {
     "data": {
      "image/png": "[encoded data removed]",
      "text/plain": [
       "<Figure size 432x288 with 1 Axes>"
      ]
     },
     "metadata": {},
     "output_type": "display_data"
    }
   ],
   "source": [
    "#Fitted vs Residuals plot\n",
    "x=m.fittedvalues\n",
    "y=m.resid\n",
    "plt.ylabel('Residual')\n",
    "plt.xlabel('Fitted')\n",
    "plt.scatter(x,y,s=30, alpha = 0.6)"
   ]
  },
  {
   "cell_type": "markdown",
   "metadata": {},
   "source": [
    "A fitted vs residuals diagram shows a fairly random looking distribution around zero,  there do not seem to be any troubling areas of concentration."
   ]
  },
  {
   "cell_type": "code",
   "execution_count": 11,
   "metadata": {},
   "outputs": [
    {
     "data": {
      "text/plain": [
       "Text(0.5,1,'Quantile Plot')"
      ]
     },
     "execution_count": 11,
     "metadata": {},
     "output_type": "execute_result"
    },
    {
     "data": {
      "image/png": "[encoded data removed]",
      "text/plain": [
       "<Figure size 432x288 with 1 Axes>"
      ]
     },
     "metadata": {},
     "output_type": "display_data"
    }
   ],
   "source": [
    "fig = sm.qqplot(y)\n",
    "plt.title (\"Quantile Plot\")"
   ]
  },
  {
   "cell_type": "markdown",
   "metadata": {},
   "source": [
    "The quantile plot also does not show any major areas of concern.  Next leverage and influence will be examined."
   ]
  },
  {
   "cell_type": "code",
   "execution_count": 12,
   "metadata": {},
   "outputs": [
    {
     "data": {
      "image/png": "[encoded data removed]",
      "text/plain": [
       "<Figure size 432x288 with 1 Axes>"
      ]
     },
     "metadata": {},
     "output_type": "display_data"
    }
   ],
   "source": [
    "#from statsmodels.graphics.regressionplots import *\n",
    "import statsmodels.api as sm\n",
    "fig = sm.graphics.plot_leverage_resid2(m, color = 'brown')"
   ]
  },
  {
   "cell_type": "code",
   "execution_count": 13,
   "metadata": {},
   "outputs": [
    {
     "data": {
      "image/png": "[encoded data removed]",
      "text/plain": [
       "<Figure size 576x432 with 1 Axes>"
      ]
     },
     "metadata": {},
     "output_type": "display_data"
    }
   ],
   "source": [
    "fig, ax = plt.subplots(figsize=(8,6))\n",
    "fig = sm.graphics.influence_plot(m, ax=ax)"
   ]
  },
  {
   "cell_type": "code",
   "execution_count": 14,
   "metadata": {},
   "outputs": [
    {
     "name": "stderr",
     "output_type": "stream",
     "text": [
      "C:\\Conda\\lib\\site-packages\\ipykernel_launcher.py:1: DeprecationWarning: \n",
      ".ix is deprecated. Please use\n",
      ".loc for label based indexing or\n",
      ".iloc for positional indexing\n",
      "\n",
      "See the documentation here:\n",
      "http://pandas.pydata.org/pandas-docs/stable/indexing.html#ix-indexer-is-deprecated\n",
      "  \"\"\"Entry point for launching an IPython kernel.\n"
     ]
    },
    {
     "data": {
      "text/html": [
       "<div>\n",
       "<style scoped>\n",
       "    .dataframe tbody tr th:only-of-type {\n",
       "        vertical-align: middle;\n",
       "    }\n",
       "\n",
       "    .dataframe tbody tr th {\n",
       "        vertical-align: top;\n",
       "    }\n",
       "\n",
       "    .dataframe thead th {\n",
       "        text-align: right;\n",
       "    }\n",
       "</style>\n",
       "<table border=\"1\" class=\"dataframe\">\n",
       "  <thead>\n",
       "    <tr style=\"text-align: right;\">\n",
       "      <th></th>\n",
       "      <th>Age</th>\n",
       "      <th>BPM_A</th>\n",
       "      <th>WORP</th>\n",
       "      <th>VORP</th>\n",
       "      <th>PER</th>\n",
       "      <th>WORP_Chg</th>\n",
       "      <th>VORP_Chg</th>\n",
       "      <th>BPM_A_Chg</th>\n",
       "      <th>PER_Chg</th>\n",
       "      <th>YR</th>\n",
       "      <th>W</th>\n",
       "      <th>Win_Delta</th>\n",
       "      <th>Prev_W</th>\n",
       "    </tr>\n",
       "  </thead>\n",
       "  <tbody>\n",
       "    <tr>\n",
       "      <th>16</th>\n",
       "      <td>26.263158</td>\n",
       "      <td>-8.113821</td>\n",
       "      <td>2.480603</td>\n",
       "      <td>0.8</td>\n",
       "      <td>223.4</td>\n",
       "      <td>-21.155414</td>\n",
       "      <td>-8.2</td>\n",
       "      <td>-7.596341</td>\n",
       "      <td>-79.3</td>\n",
       "      <td>2012</td>\n",
       "      <td>7</td>\n",
       "      <td>-27.0</td>\n",
       "      <td>34.0</td>\n",
       "    </tr>\n",
       "    <tr>\n",
       "      <th>97</th>\n",
       "      <td>31.210526</td>\n",
       "      <td>3.862652</td>\n",
       "      <td>47.457612</td>\n",
       "      <td>17.5</td>\n",
       "      <td>251.2</td>\n",
       "      <td>8.128390</td>\n",
       "      <td>2.9</td>\n",
       "      <td>1.132190</td>\n",
       "      <td>-92.5</td>\n",
       "      <td>2013</td>\n",
       "      <td>54</td>\n",
       "      <td>18.0</td>\n",
       "      <td>36.0</td>\n",
       "    </tr>\n",
       "  </tbody>\n",
       "</table>\n",
       "</div>"
      ],
      "text/plain": [
       "          Age     BPM_A       WORP  VORP    PER   WORP_Chg  VORP_Chg  \\\n",
       "16  26.263158 -8.113821   2.480603   0.8  223.4 -21.155414      -8.2   \n",
       "97  31.210526  3.862652  47.457612  17.5  251.2   8.128390       2.9   \n",
       "\n",
       "    BPM_A_Chg  PER_Chg    YR   W  Win_Delta  Prev_W  \n",
       "16  -7.596341    -79.3  2012   7      -27.0    34.0  \n",
       "97   1.132190    -92.5  2013  54       18.0    36.0  "
      ]
     },
     "execution_count": 14,
     "metadata": {},
     "output_type": "execute_result"
    }
   ],
   "source": [
    "hoops_data1.ix[[16, 97]]"
   ]
  },
  {
   "cell_type": "markdown",
   "metadata": {},
   "source": [
    "I looked at records 16 and 97 which appear to be possible outliers.  16 is an underachieving 2012 Charlotte team that won 7 games.  The 2013 Knicks are record  number 97. They outperformed expectations and seem to be a high leverage point.  Examining these teams I realized that there was an error in the handling of the data.  The 2012 NBA season was shortened by a labor dispute that led to a lockout.  The season was shortened to 66 games instead of 82.  This would account for a Charlottle team winning less games than expected (they also played less games than expected), and a Knicks team that won more games than expected (they had 16 extra opportunities to win games)."
   ]
  },
  {
   "cell_type": "markdown",
   "metadata": {},
   "source": [
    "This obviously presents an issue with all data from 2012 and 2013 seasons.  Teams in 2012 will have lower win totals even if they won the same percentage of games and 2013 teams will have positive win deltas even if they won the same percentage.  For example a team that wone half of their games in both 2012 and 2013 would have a win delta of +8.  "
   ]
  },
  {
   "cell_type": "markdown",
   "metadata": {},
   "source": [
    "The solution I have chosen for this is to normalize the 2012 season as if it were an 82 game season.  Since there are 1.24 times as many games in a regular season as there were in the 2012 season I have built a column of adjusted wins where the records from 2012 have been multiplied by 1.24.  Essentially all seasons will be normalized to 82 games."
   ]
  },
  {
   "cell_type": "code",
   "execution_count": 15,
   "metadata": {},
   "outputs": [
    {
     "data": {
      "text/html": [
       "<div>\n",
       "<style scoped>\n",
       "    .dataframe tbody tr th:only-of-type {\n",
       "        vertical-align: middle;\n",
       "    }\n",
       "\n",
       "    .dataframe tbody tr th {\n",
       "        vertical-align: top;\n",
       "    }\n",
       "\n",
       "    .dataframe thead th {\n",
       "        text-align: right;\n",
       "    }\n",
       "</style>\n",
       "<table border=\"1\" class=\"dataframe\">\n",
       "  <thead>\n",
       "    <tr style=\"text-align: right;\">\n",
       "      <th></th>\n",
       "      <th>Tm</th>\n",
       "      <th>Year</th>\n",
       "      <th>Age</th>\n",
       "      <th>BPM_A</th>\n",
       "      <th>WORP</th>\n",
       "      <th>VORP</th>\n",
       "      <th>PER</th>\n",
       "      <th>WORP_Chg</th>\n",
       "      <th>VORP_Chg</th>\n",
       "      <th>BPM_A_Chg</th>\n",
       "      <th>PER_Chg</th>\n",
       "      <th>ABBR</th>\n",
       "      <th>YR</th>\n",
       "      <th>W</th>\n",
       "      <th>Win_Delta</th>\n",
       "      <th>Adj_Wins</th>\n",
       "    </tr>\n",
       "  </thead>\n",
       "  <tbody>\n",
       "    <tr>\n",
       "      <th>0</th>\n",
       "      <td>ATL</td>\n",
       "      <td>2011</td>\n",
       "      <td>27.050000</td>\n",
       "      <td>3.772002</td>\n",
       "      <td>43.820121</td>\n",
       "      <td>16.6</td>\n",
       "      <td>224.1</td>\n",
       "      <td>44.886630</td>\n",
       "      <td>16.9</td>\n",
       "      <td>4.484426</td>\n",
       "      <td>213.1</td>\n",
       "      <td>ATL</td>\n",
       "      <td>2011</td>\n",
       "      <td>44</td>\n",
       "      <td>NaN</td>\n",
       "      <td>44</td>\n",
       "    </tr>\n",
       "    <tr>\n",
       "      <th>1</th>\n",
       "      <td>ATL</td>\n",
       "      <td>2012</td>\n",
       "      <td>28.666667</td>\n",
       "      <td>-1.026931</td>\n",
       "      <td>26.987068</td>\n",
       "      <td>9.8</td>\n",
       "      <td>222.3</td>\n",
       "      <td>-16.833053</td>\n",
       "      <td>-6.8</td>\n",
       "      <td>-4.798933</td>\n",
       "      <td>-1.8</td>\n",
       "      <td>ATL</td>\n",
       "      <td>2012</td>\n",
       "      <td>40</td>\n",
       "      <td>-4.0</td>\n",
       "      <td>40</td>\n",
       "    </tr>\n",
       "    <tr>\n",
       "      <th>2</th>\n",
       "      <td>ATL</td>\n",
       "      <td>2013</td>\n",
       "      <td>26.888889</td>\n",
       "      <td>-2.037678</td>\n",
       "      <td>28.595704</td>\n",
       "      <td>10.7</td>\n",
       "      <td>245.5</td>\n",
       "      <td>1.608636</td>\n",
       "      <td>0.9</td>\n",
       "      <td>-1.010747</td>\n",
       "      <td>23.2</td>\n",
       "      <td>ATL</td>\n",
       "      <td>2013</td>\n",
       "      <td>44</td>\n",
       "      <td>4.0</td>\n",
       "      <td>44</td>\n",
       "    </tr>\n",
       "    <tr>\n",
       "      <th>3</th>\n",
       "      <td>ATL</td>\n",
       "      <td>2014</td>\n",
       "      <td>25.739130</td>\n",
       "      <td>0.746189</td>\n",
       "      <td>28.556464</td>\n",
       "      <td>10.4</td>\n",
       "      <td>265.2</td>\n",
       "      <td>-0.039241</td>\n",
       "      <td>-0.3</td>\n",
       "      <td>2.783867</td>\n",
       "      <td>19.7</td>\n",
       "      <td>ATL</td>\n",
       "      <td>2014</td>\n",
       "      <td>38</td>\n",
       "      <td>-6.0</td>\n",
       "      <td>38</td>\n",
       "    </tr>\n",
       "    <tr>\n",
       "      <th>4</th>\n",
       "      <td>ATL</td>\n",
       "      <td>2015</td>\n",
       "      <td>26.631579</td>\n",
       "      <td>-1.173145</td>\n",
       "      <td>24.713699</td>\n",
       "      <td>9.1</td>\n",
       "      <td>218.3</td>\n",
       "      <td>-3.842764</td>\n",
       "      <td>-1.3</td>\n",
       "      <td>-1.919334</td>\n",
       "      <td>-46.9</td>\n",
       "      <td>ATL</td>\n",
       "      <td>2015</td>\n",
       "      <td>60</td>\n",
       "      <td>22.0</td>\n",
       "      <td>60</td>\n",
       "    </tr>\n",
       "  </tbody>\n",
       "</table>\n",
       "</div>"
      ],
      "text/plain": [
       "    Tm  Year        Age     BPM_A       WORP  VORP    PER   WORP_Chg  \\\n",
       "0  ATL  2011  27.050000  3.772002  43.820121  16.6  224.1  44.886630   \n",
       "1  ATL  2012  28.666667 -1.026931  26.987068   9.8  222.3 -16.833053   \n",
       "2  ATL  2013  26.888889 -2.037678  28.595704  10.7  245.5   1.608636   \n",
       "3  ATL  2014  25.739130  0.746189  28.556464  10.4  265.2  -0.039241   \n",
       "4  ATL  2015  26.631579 -1.173145  24.713699   9.1  218.3  -3.842764   \n",
       "\n",
       "   VORP_Chg  BPM_A_Chg  PER_Chg ABBR    YR   W  Win_Delta  Adj_Wins  \n",
       "0      16.9   4.484426    213.1  ATL  2011  44        NaN        44  \n",
       "1      -6.8  -4.798933     -1.8  ATL  2012  40       -4.0        40  \n",
       "2       0.9  -1.010747     23.2  ATL  2013  44        4.0        44  \n",
       "3      -0.3   2.783867     19.7  ATL  2014  38       -6.0        38  \n",
       "4      -1.3  -1.919334    -46.9  ATL  2015  60       22.0        60  "
      ]
     },
     "execution_count": 15,
     "metadata": {},
     "output_type": "execute_result"
    }
   ],
   "source": [
    "#add an adjusted wins column\n",
    "\n",
    "hoops_data['Adj_Wins'] = hoops_data['W']\n",
    "hoops_data.head()"
   ]
  },
  {
   "cell_type": "code",
   "execution_count": 16,
   "metadata": {},
   "outputs": [
    {
     "data": {
      "text/html": [
       "<div>\n",
       "<style scoped>\n",
       "    .dataframe tbody tr th:only-of-type {\n",
       "        vertical-align: middle;\n",
       "    }\n",
       "\n",
       "    .dataframe tbody tr th {\n",
       "        vertical-align: top;\n",
       "    }\n",
       "\n",
       "    .dataframe thead th {\n",
       "        text-align: right;\n",
       "    }\n",
       "</style>\n",
       "<table border=\"1\" class=\"dataframe\">\n",
       "  <thead>\n",
       "    <tr style=\"text-align: right;\">\n",
       "      <th></th>\n",
       "      <th>Tm</th>\n",
       "      <th>Year</th>\n",
       "      <th>Age</th>\n",
       "      <th>BPM_A</th>\n",
       "      <th>WORP</th>\n",
       "      <th>VORP</th>\n",
       "      <th>PER</th>\n",
       "      <th>WORP_Chg</th>\n",
       "      <th>VORP_Chg</th>\n",
       "      <th>BPM_A_Chg</th>\n",
       "      <th>PER_Chg</th>\n",
       "      <th>ABBR</th>\n",
       "      <th>YR</th>\n",
       "      <th>W</th>\n",
       "      <th>Win_Delta</th>\n",
       "      <th>Adj_Wins</th>\n",
       "    </tr>\n",
       "  </thead>\n",
       "  <tbody>\n",
       "    <tr>\n",
       "      <th>0</th>\n",
       "      <td>ATL</td>\n",
       "      <td>2011</td>\n",
       "      <td>27.050000</td>\n",
       "      <td>3.772002</td>\n",
       "      <td>43.820121</td>\n",
       "      <td>16.6</td>\n",
       "      <td>224.1</td>\n",
       "      <td>44.886630</td>\n",
       "      <td>16.9</td>\n",
       "      <td>4.484426</td>\n",
       "      <td>213.1</td>\n",
       "      <td>ATL</td>\n",
       "      <td>2011</td>\n",
       "      <td>44</td>\n",
       "      <td>NaN</td>\n",
       "      <td>44.0</td>\n",
       "    </tr>\n",
       "    <tr>\n",
       "      <th>1</th>\n",
       "      <td>ATL</td>\n",
       "      <td>2012</td>\n",
       "      <td>28.666667</td>\n",
       "      <td>-1.026931</td>\n",
       "      <td>26.987068</td>\n",
       "      <td>9.8</td>\n",
       "      <td>222.3</td>\n",
       "      <td>-16.833053</td>\n",
       "      <td>-6.8</td>\n",
       "      <td>-4.798933</td>\n",
       "      <td>-1.8</td>\n",
       "      <td>ATL</td>\n",
       "      <td>2012</td>\n",
       "      <td>40</td>\n",
       "      <td>-4.0</td>\n",
       "      <td>49.6</td>\n",
       "    </tr>\n",
       "    <tr>\n",
       "      <th>2</th>\n",
       "      <td>ATL</td>\n",
       "      <td>2013</td>\n",
       "      <td>26.888889</td>\n",
       "      <td>-2.037678</td>\n",
       "      <td>28.595704</td>\n",
       "      <td>10.7</td>\n",
       "      <td>245.5</td>\n",
       "      <td>1.608636</td>\n",
       "      <td>0.9</td>\n",
       "      <td>-1.010747</td>\n",
       "      <td>23.2</td>\n",
       "      <td>ATL</td>\n",
       "      <td>2013</td>\n",
       "      <td>44</td>\n",
       "      <td>4.0</td>\n",
       "      <td>44.0</td>\n",
       "    </tr>\n",
       "    <tr>\n",
       "      <th>3</th>\n",
       "      <td>ATL</td>\n",
       "      <td>2014</td>\n",
       "      <td>25.739130</td>\n",
       "      <td>0.746189</td>\n",
       "      <td>28.556464</td>\n",
       "      <td>10.4</td>\n",
       "      <td>265.2</td>\n",
       "      <td>-0.039241</td>\n",
       "      <td>-0.3</td>\n",
       "      <td>2.783867</td>\n",
       "      <td>19.7</td>\n",
       "      <td>ATL</td>\n",
       "      <td>2014</td>\n",
       "      <td>38</td>\n",
       "      <td>-6.0</td>\n",
       "      <td>38.0</td>\n",
       "    </tr>\n",
       "    <tr>\n",
       "      <th>4</th>\n",
       "      <td>ATL</td>\n",
       "      <td>2015</td>\n",
       "      <td>26.631579</td>\n",
       "      <td>-1.173145</td>\n",
       "      <td>24.713699</td>\n",
       "      <td>9.1</td>\n",
       "      <td>218.3</td>\n",
       "      <td>-3.842764</td>\n",
       "      <td>-1.3</td>\n",
       "      <td>-1.919334</td>\n",
       "      <td>-46.9</td>\n",
       "      <td>ATL</td>\n",
       "      <td>2015</td>\n",
       "      <td>60</td>\n",
       "      <td>22.0</td>\n",
       "      <td>60.0</td>\n",
       "    </tr>\n",
       "  </tbody>\n",
       "</table>\n",
       "</div>"
      ],
      "text/plain": [
       "    Tm  Year        Age     BPM_A       WORP  VORP    PER   WORP_Chg  \\\n",
       "0  ATL  2011  27.050000  3.772002  43.820121  16.6  224.1  44.886630   \n",
       "1  ATL  2012  28.666667 -1.026931  26.987068   9.8  222.3 -16.833053   \n",
       "2  ATL  2013  26.888889 -2.037678  28.595704  10.7  245.5   1.608636   \n",
       "3  ATL  2014  25.739130  0.746189  28.556464  10.4  265.2  -0.039241   \n",
       "4  ATL  2015  26.631579 -1.173145  24.713699   9.1  218.3  -3.842764   \n",
       "\n",
       "   VORP_Chg  BPM_A_Chg  PER_Chg ABBR    YR   W  Win_Delta  Adj_Wins  \n",
       "0      16.9   4.484426    213.1  ATL  2011  44        NaN      44.0  \n",
       "1      -6.8  -4.798933     -1.8  ATL  2012  40       -4.0      49.6  \n",
       "2       0.9  -1.010747     23.2  ATL  2013  44        4.0      44.0  \n",
       "3      -0.3   2.783867     19.7  ATL  2014  38       -6.0      38.0  \n",
       "4      -1.3  -1.919334    -46.9  ATL  2015  60       22.0      60.0  "
      ]
     },
     "execution_count": 16,
     "metadata": {},
     "output_type": "execute_result"
    }
   ],
   "source": [
    "# multiply only the 2012 records by 1.24 to normalize as if it were an 82 game season\n",
    "\n",
    "hoops_data['Adj_Wins'] = np.where(hoops_data['Year']== 2012, (1.24 * hoops_data['W']), hoops_data['W'])\n",
    "hoops_data.head()"
   ]
  },
  {
   "cell_type": "code",
   "execution_count": 17,
   "metadata": {},
   "outputs": [
    {
     "data": {
      "text/html": [
       "<div>\n",
       "<style scoped>\n",
       "    .dataframe tbody tr th:only-of-type {\n",
       "        vertical-align: middle;\n",
       "    }\n",
       "\n",
       "    .dataframe tbody tr th {\n",
       "        vertical-align: top;\n",
       "    }\n",
       "\n",
       "    .dataframe thead th {\n",
       "        text-align: right;\n",
       "    }\n",
       "</style>\n",
       "<table border=\"1\" class=\"dataframe\">\n",
       "  <thead>\n",
       "    <tr style=\"text-align: right;\">\n",
       "      <th></th>\n",
       "      <th>Tm</th>\n",
       "      <th>Year</th>\n",
       "      <th>Age</th>\n",
       "      <th>BPM_A</th>\n",
       "      <th>WORP</th>\n",
       "      <th>VORP</th>\n",
       "      <th>PER</th>\n",
       "      <th>WORP_Chg</th>\n",
       "      <th>VORP_Chg</th>\n",
       "      <th>BPM_A_Chg</th>\n",
       "      <th>PER_Chg</th>\n",
       "      <th>ABBR</th>\n",
       "      <th>YR</th>\n",
       "      <th>W</th>\n",
       "      <th>Win_Delta</th>\n",
       "      <th>Adj_Wins</th>\n",
       "    </tr>\n",
       "  </thead>\n",
       "  <tbody>\n",
       "    <tr>\n",
       "      <th>0</th>\n",
       "      <td>ATL</td>\n",
       "      <td>2011</td>\n",
       "      <td>27.050000</td>\n",
       "      <td>3.772002</td>\n",
       "      <td>43.820121</td>\n",
       "      <td>16.6</td>\n",
       "      <td>224.1</td>\n",
       "      <td>44.886630</td>\n",
       "      <td>16.9</td>\n",
       "      <td>4.484426</td>\n",
       "      <td>213.1</td>\n",
       "      <td>ATL</td>\n",
       "      <td>2011</td>\n",
       "      <td>44</td>\n",
       "      <td>NaN</td>\n",
       "      <td>44.0</td>\n",
       "    </tr>\n",
       "    <tr>\n",
       "      <th>1</th>\n",
       "      <td>ATL</td>\n",
       "      <td>2012</td>\n",
       "      <td>28.666667</td>\n",
       "      <td>-1.026931</td>\n",
       "      <td>26.987068</td>\n",
       "      <td>9.8</td>\n",
       "      <td>222.3</td>\n",
       "      <td>-16.833053</td>\n",
       "      <td>-6.8</td>\n",
       "      <td>-4.798933</td>\n",
       "      <td>-1.8</td>\n",
       "      <td>ATL</td>\n",
       "      <td>2012</td>\n",
       "      <td>40</td>\n",
       "      <td>-4.0</td>\n",
       "      <td>50.0</td>\n",
       "    </tr>\n",
       "    <tr>\n",
       "      <th>2</th>\n",
       "      <td>ATL</td>\n",
       "      <td>2013</td>\n",
       "      <td>26.888889</td>\n",
       "      <td>-2.037678</td>\n",
       "      <td>28.595704</td>\n",
       "      <td>10.7</td>\n",
       "      <td>245.5</td>\n",
       "      <td>1.608636</td>\n",
       "      <td>0.9</td>\n",
       "      <td>-1.010747</td>\n",
       "      <td>23.2</td>\n",
       "      <td>ATL</td>\n",
       "      <td>2013</td>\n",
       "      <td>44</td>\n",
       "      <td>4.0</td>\n",
       "      <td>44.0</td>\n",
       "    </tr>\n",
       "    <tr>\n",
       "      <th>3</th>\n",
       "      <td>ATL</td>\n",
       "      <td>2014</td>\n",
       "      <td>25.739130</td>\n",
       "      <td>0.746189</td>\n",
       "      <td>28.556464</td>\n",
       "      <td>10.4</td>\n",
       "      <td>265.2</td>\n",
       "      <td>-0.039241</td>\n",
       "      <td>-0.3</td>\n",
       "      <td>2.783867</td>\n",
       "      <td>19.7</td>\n",
       "      <td>ATL</td>\n",
       "      <td>2014</td>\n",
       "      <td>38</td>\n",
       "      <td>-6.0</td>\n",
       "      <td>38.0</td>\n",
       "    </tr>\n",
       "    <tr>\n",
       "      <th>4</th>\n",
       "      <td>ATL</td>\n",
       "      <td>2015</td>\n",
       "      <td>26.631579</td>\n",
       "      <td>-1.173145</td>\n",
       "      <td>24.713699</td>\n",
       "      <td>9.1</td>\n",
       "      <td>218.3</td>\n",
       "      <td>-3.842764</td>\n",
       "      <td>-1.3</td>\n",
       "      <td>-1.919334</td>\n",
       "      <td>-46.9</td>\n",
       "      <td>ATL</td>\n",
       "      <td>2015</td>\n",
       "      <td>60</td>\n",
       "      <td>22.0</td>\n",
       "      <td>60.0</td>\n",
       "    </tr>\n",
       "  </tbody>\n",
       "</table>\n",
       "</div>"
      ],
      "text/plain": [
       "    Tm  Year        Age     BPM_A       WORP  VORP    PER   WORP_Chg  \\\n",
       "0  ATL  2011  27.050000  3.772002  43.820121  16.6  224.1  44.886630   \n",
       "1  ATL  2012  28.666667 -1.026931  26.987068   9.8  222.3 -16.833053   \n",
       "2  ATL  2013  26.888889 -2.037678  28.595704  10.7  245.5   1.608636   \n",
       "3  ATL  2014  25.739130  0.746189  28.556464  10.4  265.2  -0.039241   \n",
       "4  ATL  2015  26.631579 -1.173145  24.713699   9.1  218.3  -3.842764   \n",
       "\n",
       "   VORP_Chg  BPM_A_Chg  PER_Chg ABBR    YR   W  Win_Delta  Adj_Wins  \n",
       "0      16.9   4.484426    213.1  ATL  2011  44        NaN      44.0  \n",
       "1      -6.8  -4.798933     -1.8  ATL  2012  40       -4.0      50.0  \n",
       "2       0.9  -1.010747     23.2  ATL  2013  44        4.0      44.0  \n",
       "3      -0.3   2.783867     19.7  ATL  2014  38       -6.0      38.0  \n",
       "4      -1.3  -1.919334    -46.9  ATL  2015  60       22.0      60.0  "
      ]
     },
     "execution_count": 17,
     "metadata": {},
     "output_type": "execute_result"
    }
   ],
   "source": [
    "# round so that teams have whole numbers of wins.\n",
    "hoops_data['Adj_Wins'] = hoops_data['Adj_Wins'].round()\n",
    "hoops_data.head()"
   ]
  },
  {
   "cell_type": "code",
   "execution_count": 18,
   "metadata": {},
   "outputs": [],
   "source": [
    "# import the formula built in the data wrangling notebook for stat differentials\n",
    "\n",
    "def get_stat_diff(stat, df, sort1, sort2, row):\n",
    "    stat_diff = np.nan\n",
    "    prev_year_stat = list(df[(df[sort1]==row[sort1]) & (df[sort2] == row[sort2]-1)][stat].values)\n",
    "    if prev_year_stat:\n",
    "        stat_diff = row[stat] - prev_year_stat[0]\n",
    "    return stat_diff"
   ]
  },
  {
   "cell_type": "code",
   "execution_count": 19,
   "metadata": {},
   "outputs": [
    {
     "data": {
      "text/html": [
       "<div>\n",
       "<style scoped>\n",
       "    .dataframe tbody tr th:only-of-type {\n",
       "        vertical-align: middle;\n",
       "    }\n",
       "\n",
       "    .dataframe tbody tr th {\n",
       "        vertical-align: top;\n",
       "    }\n",
       "\n",
       "    .dataframe thead th {\n",
       "        text-align: right;\n",
       "    }\n",
       "</style>\n",
       "<table border=\"1\" class=\"dataframe\">\n",
       "  <thead>\n",
       "    <tr style=\"text-align: right;\">\n",
       "      <th></th>\n",
       "      <th>Tm</th>\n",
       "      <th>Year</th>\n",
       "      <th>Age</th>\n",
       "      <th>BPM_A</th>\n",
       "      <th>WORP</th>\n",
       "      <th>VORP</th>\n",
       "      <th>PER</th>\n",
       "      <th>WORP_Chg</th>\n",
       "      <th>VORP_Chg</th>\n",
       "      <th>BPM_A_Chg</th>\n",
       "      <th>PER_Chg</th>\n",
       "      <th>ABBR</th>\n",
       "      <th>YR</th>\n",
       "      <th>W</th>\n",
       "      <th>Win_Delta</th>\n",
       "      <th>Adj_Wins</th>\n",
       "    </tr>\n",
       "  </thead>\n",
       "  <tbody>\n",
       "    <tr>\n",
       "      <th>0</th>\n",
       "      <td>ATL</td>\n",
       "      <td>2011</td>\n",
       "      <td>27.050000</td>\n",
       "      <td>3.772002</td>\n",
       "      <td>43.820121</td>\n",
       "      <td>16.6</td>\n",
       "      <td>224.1</td>\n",
       "      <td>44.886630</td>\n",
       "      <td>16.9</td>\n",
       "      <td>4.484426</td>\n",
       "      <td>213.1</td>\n",
       "      <td>ATL</td>\n",
       "      <td>2011</td>\n",
       "      <td>44</td>\n",
       "      <td>NaN</td>\n",
       "      <td>44.0</td>\n",
       "    </tr>\n",
       "    <tr>\n",
       "      <th>1</th>\n",
       "      <td>ATL</td>\n",
       "      <td>2012</td>\n",
       "      <td>28.666667</td>\n",
       "      <td>-1.026931</td>\n",
       "      <td>26.987068</td>\n",
       "      <td>9.8</td>\n",
       "      <td>222.3</td>\n",
       "      <td>-16.833053</td>\n",
       "      <td>-6.8</td>\n",
       "      <td>-4.798933</td>\n",
       "      <td>-1.8</td>\n",
       "      <td>ATL</td>\n",
       "      <td>2012</td>\n",
       "      <td>40</td>\n",
       "      <td>6.0</td>\n",
       "      <td>50.0</td>\n",
       "    </tr>\n",
       "    <tr>\n",
       "      <th>2</th>\n",
       "      <td>ATL</td>\n",
       "      <td>2013</td>\n",
       "      <td>26.888889</td>\n",
       "      <td>-2.037678</td>\n",
       "      <td>28.595704</td>\n",
       "      <td>10.7</td>\n",
       "      <td>245.5</td>\n",
       "      <td>1.608636</td>\n",
       "      <td>0.9</td>\n",
       "      <td>-1.010747</td>\n",
       "      <td>23.2</td>\n",
       "      <td>ATL</td>\n",
       "      <td>2013</td>\n",
       "      <td>44</td>\n",
       "      <td>-6.0</td>\n",
       "      <td>44.0</td>\n",
       "    </tr>\n",
       "    <tr>\n",
       "      <th>3</th>\n",
       "      <td>ATL</td>\n",
       "      <td>2014</td>\n",
       "      <td>25.739130</td>\n",
       "      <td>0.746189</td>\n",
       "      <td>28.556464</td>\n",
       "      <td>10.4</td>\n",
       "      <td>265.2</td>\n",
       "      <td>-0.039241</td>\n",
       "      <td>-0.3</td>\n",
       "      <td>2.783867</td>\n",
       "      <td>19.7</td>\n",
       "      <td>ATL</td>\n",
       "      <td>2014</td>\n",
       "      <td>38</td>\n",
       "      <td>-6.0</td>\n",
       "      <td>38.0</td>\n",
       "    </tr>\n",
       "    <tr>\n",
       "      <th>4</th>\n",
       "      <td>ATL</td>\n",
       "      <td>2015</td>\n",
       "      <td>26.631579</td>\n",
       "      <td>-1.173145</td>\n",
       "      <td>24.713699</td>\n",
       "      <td>9.1</td>\n",
       "      <td>218.3</td>\n",
       "      <td>-3.842764</td>\n",
       "      <td>-1.3</td>\n",
       "      <td>-1.919334</td>\n",
       "      <td>-46.9</td>\n",
       "      <td>ATL</td>\n",
       "      <td>2015</td>\n",
       "      <td>60</td>\n",
       "      <td>22.0</td>\n",
       "      <td>60.0</td>\n",
       "    </tr>\n",
       "  </tbody>\n",
       "</table>\n",
       "</div>"
      ],
      "text/plain": [
       "    Tm  Year        Age     BPM_A       WORP  VORP    PER   WORP_Chg  \\\n",
       "0  ATL  2011  27.050000  3.772002  43.820121  16.6  224.1  44.886630   \n",
       "1  ATL  2012  28.666667 -1.026931  26.987068   9.8  222.3 -16.833053   \n",
       "2  ATL  2013  26.888889 -2.037678  28.595704  10.7  245.5   1.608636   \n",
       "3  ATL  2014  25.739130  0.746189  28.556464  10.4  265.2  -0.039241   \n",
       "4  ATL  2015  26.631579 -1.173145  24.713699   9.1  218.3  -3.842764   \n",
       "\n",
       "   VORP_Chg  BPM_A_Chg  PER_Chg ABBR    YR   W  Win_Delta  Adj_Wins  \n",
       "0      16.9   4.484426    213.1  ATL  2011  44        NaN      44.0  \n",
       "1      -6.8  -4.798933     -1.8  ATL  2012  40        6.0      50.0  \n",
       "2       0.9  -1.010747     23.2  ATL  2013  44       -6.0      44.0  \n",
       "3      -0.3   2.783867     19.7  ATL  2014  38       -6.0      38.0  \n",
       "4      -1.3  -1.919334    -46.9  ATL  2015  60       22.0      60.0  "
      ]
     },
     "execution_count": 19,
     "metadata": {},
     "output_type": "execute_result"
    }
   ],
   "source": [
    "# change Win Delta stat to look at adjusted wins instead of actual wins\n",
    "\n",
    "hoops_data['Win_Delta'] = hoops_data.apply(lambda row: get_stat_diff('Adj_Wins', hoops_data, 'ABBR', 'YR', row), axis=1)\n",
    "hoops_data.head(5)"
   ]
  },
  {
   "cell_type": "markdown",
   "metadata": {},
   "source": [
    "Win Delta is now measuring the difference between normalized 2012 wins (instead of actual) and 2013 wins.  This should give a more useful picture of how the advanced metrics may be affecting win totals."
   ]
  },
  {
   "cell_type": "code",
   "execution_count": 20,
   "metadata": {},
   "outputs": [
    {
     "data": {
      "text/html": [
       "<div>\n",
       "<style scoped>\n",
       "    .dataframe tbody tr th:only-of-type {\n",
       "        vertical-align: middle;\n",
       "    }\n",
       "\n",
       "    .dataframe tbody tr th {\n",
       "        vertical-align: top;\n",
       "    }\n",
       "\n",
       "    .dataframe thead th {\n",
       "        text-align: right;\n",
       "    }\n",
       "</style>\n",
       "<table border=\"1\" class=\"dataframe\">\n",
       "  <thead>\n",
       "    <tr style=\"text-align: right;\">\n",
       "      <th></th>\n",
       "      <th>Tm</th>\n",
       "      <th>Year</th>\n",
       "      <th>Age</th>\n",
       "      <th>BPM_A</th>\n",
       "      <th>WORP</th>\n",
       "      <th>VORP</th>\n",
       "      <th>PER</th>\n",
       "      <th>WORP_Chg</th>\n",
       "      <th>VORP_Chg</th>\n",
       "      <th>BPM_A_Chg</th>\n",
       "      <th>PER_Chg</th>\n",
       "      <th>ABBR</th>\n",
       "      <th>YR</th>\n",
       "      <th>W</th>\n",
       "      <th>Win_Delta</th>\n",
       "      <th>Adj_Wins</th>\n",
       "    </tr>\n",
       "  </thead>\n",
       "  <tbody>\n",
       "    <tr>\n",
       "      <th>1</th>\n",
       "      <td>ATL</td>\n",
       "      <td>2012</td>\n",
       "      <td>28.666667</td>\n",
       "      <td>-1.026931</td>\n",
       "      <td>26.987068</td>\n",
       "      <td>9.8</td>\n",
       "      <td>222.3</td>\n",
       "      <td>-16.833053</td>\n",
       "      <td>-6.8</td>\n",
       "      <td>-4.798933</td>\n",
       "      <td>-1.8</td>\n",
       "      <td>ATL</td>\n",
       "      <td>2012</td>\n",
       "      <td>40</td>\n",
       "      <td>6.0</td>\n",
       "      <td>50.0</td>\n",
       "    </tr>\n",
       "    <tr>\n",
       "      <th>2</th>\n",
       "      <td>ATL</td>\n",
       "      <td>2013</td>\n",
       "      <td>26.888889</td>\n",
       "      <td>-2.037678</td>\n",
       "      <td>28.595704</td>\n",
       "      <td>10.7</td>\n",
       "      <td>245.5</td>\n",
       "      <td>1.608636</td>\n",
       "      <td>0.9</td>\n",
       "      <td>-1.010747</td>\n",
       "      <td>23.2</td>\n",
       "      <td>ATL</td>\n",
       "      <td>2013</td>\n",
       "      <td>44</td>\n",
       "      <td>-6.0</td>\n",
       "      <td>44.0</td>\n",
       "    </tr>\n",
       "    <tr>\n",
       "      <th>3</th>\n",
       "      <td>ATL</td>\n",
       "      <td>2014</td>\n",
       "      <td>25.739130</td>\n",
       "      <td>0.746189</td>\n",
       "      <td>28.556464</td>\n",
       "      <td>10.4</td>\n",
       "      <td>265.2</td>\n",
       "      <td>-0.039241</td>\n",
       "      <td>-0.3</td>\n",
       "      <td>2.783867</td>\n",
       "      <td>19.7</td>\n",
       "      <td>ATL</td>\n",
       "      <td>2014</td>\n",
       "      <td>38</td>\n",
       "      <td>-6.0</td>\n",
       "      <td>38.0</td>\n",
       "    </tr>\n",
       "    <tr>\n",
       "      <th>4</th>\n",
       "      <td>ATL</td>\n",
       "      <td>2015</td>\n",
       "      <td>26.631579</td>\n",
       "      <td>-1.173145</td>\n",
       "      <td>24.713699</td>\n",
       "      <td>9.1</td>\n",
       "      <td>218.3</td>\n",
       "      <td>-3.842764</td>\n",
       "      <td>-1.3</td>\n",
       "      <td>-1.919334</td>\n",
       "      <td>-46.9</td>\n",
       "      <td>ATL</td>\n",
       "      <td>2015</td>\n",
       "      <td>60</td>\n",
       "      <td>22.0</td>\n",
       "      <td>60.0</td>\n",
       "    </tr>\n",
       "    <tr>\n",
       "      <th>6</th>\n",
       "      <td>BOS</td>\n",
       "      <td>2012</td>\n",
       "      <td>28.421053</td>\n",
       "      <td>5.789482</td>\n",
       "      <td>45.277074</td>\n",
       "      <td>16.3</td>\n",
       "      <td>221.5</td>\n",
       "      <td>-7.023784</td>\n",
       "      <td>-3.1</td>\n",
       "      <td>2.267505</td>\n",
       "      <td>-89.9</td>\n",
       "      <td>BOS</td>\n",
       "      <td>2012</td>\n",
       "      <td>39</td>\n",
       "      <td>-8.0</td>\n",
       "      <td>48.0</td>\n",
       "    </tr>\n",
       "  </tbody>\n",
       "</table>\n",
       "</div>"
      ],
      "text/plain": [
       "    Tm  Year        Age     BPM_A       WORP  VORP    PER   WORP_Chg  \\\n",
       "1  ATL  2012  28.666667 -1.026931  26.987068   9.8  222.3 -16.833053   \n",
       "2  ATL  2013  26.888889 -2.037678  28.595704  10.7  245.5   1.608636   \n",
       "3  ATL  2014  25.739130  0.746189  28.556464  10.4  265.2  -0.039241   \n",
       "4  ATL  2015  26.631579 -1.173145  24.713699   9.1  218.3  -3.842764   \n",
       "6  BOS  2012  28.421053  5.789482  45.277074  16.3  221.5  -7.023784   \n",
       "\n",
       "   VORP_Chg  BPM_A_Chg  PER_Chg ABBR    YR   W  Win_Delta  Adj_Wins  \n",
       "1      -6.8  -4.798933     -1.8  ATL  2012  40        6.0      50.0  \n",
       "2       0.9  -1.010747     23.2  ATL  2013  44       -6.0      44.0  \n",
       "3      -0.3   2.783867     19.7  ATL  2014  38       -6.0      38.0  \n",
       "4      -1.3  -1.919334    -46.9  ATL  2015  60       22.0      60.0  \n",
       "6      -3.1   2.267505    -89.9  BOS  2012  39       -8.0      48.0  "
      ]
     },
     "execution_count": 20,
     "metadata": {},
     "output_type": "execute_result"
    }
   ],
   "source": [
    "# drop the unusable first year of records\n",
    "\n",
    "hoops2 = hoops_data.dropna()\n",
    "hoops2.head()"
   ]
  },
  {
   "cell_type": "code",
   "execution_count": 21,
   "metadata": {},
   "outputs": [
    {
     "name": "stdout",
     "output_type": "stream",
     "text": [
      "WORP_Pearson =  (0.3529603458340423, 7.683711693966215e-05)\n",
      "VORP_Pearson =  (0.34435446430760813, 0.00011753872300664799)\n",
      "BPM_A_Pearson =  (0.3520359923366529, 8.047405540284421e-05)\n",
      "PER_Pearson =  (-0.151181876661286, 0.09929760987965655)\n"
     ]
    }
   ],
   "source": [
    "# rerun Pearson correlation coefficients\n",
    "\n",
    "WORP_Pearson =(scipy.stats.pearsonr(hoops2['WORP_Chg'], hoops2['Win_Delta']))\n",
    "VORP_Pearson = (scipy.stats.pearsonr(hoops2['VORP_Chg'], hoops2['Win_Delta']))\n",
    "BPM_A_Pearson =(scipy.stats.pearsonr(hoops2['BPM_A_Chg'], hoops2['Win_Delta']))\n",
    "PER_Pearson = (scipy.stats.pearsonr(hoops2['PER_Chg'], hoops2['Win_Delta']))\n",
    "\n",
    "print(\"WORP_Pearson = \", WORP_Pearson)\n",
    "print(\"VORP_Pearson = \", VORP_Pearson)\n",
    "print(\"BPM_A_Pearson = \", BPM_A_Pearson)\n",
    "print(\"PER_Pearson = \", PER_Pearson)"
   ]
  },
  {
   "cell_type": "markdown",
   "metadata": {},
   "source": [
    "A quick glance at the Pearson correlation coefficients for our metrics of change in WORP, VORP, and BPM_A show slightly more correlation to Win Delta now that 2012 has been normalized."
   ]
  },
  {
   "cell_type": "code",
   "execution_count": 22,
   "metadata": {},
   "outputs": [
    {
     "name": "stderr",
     "output_type": "stream",
     "text": [
      "C:\\Conda\\lib\\site-packages\\ipykernel_launcher.py:3: SettingWithCopyWarning: \n",
      "A value is trying to be set on a copy of a slice from a DataFrame.\n",
      "Try using .loc[row_indexer,col_indexer] = value instead\n",
      "\n",
      "See the caveats in the documentation: http://pandas.pydata.org/pandas-docs/stable/indexing.html#indexing-view-versus-copy\n",
      "  This is separate from the ipykernel package so we can avoid doing imports until\n"
     ]
    },
    {
     "data": {
      "text/html": [
       "<div>\n",
       "<style scoped>\n",
       "    .dataframe tbody tr th:only-of-type {\n",
       "        vertical-align: middle;\n",
       "    }\n",
       "\n",
       "    .dataframe tbody tr th {\n",
       "        vertical-align: top;\n",
       "    }\n",
       "\n",
       "    .dataframe thead th {\n",
       "        text-align: right;\n",
       "    }\n",
       "</style>\n",
       "<table border=\"1\" class=\"dataframe\">\n",
       "  <thead>\n",
       "    <tr style=\"text-align: right;\">\n",
       "      <th></th>\n",
       "      <th>Tm</th>\n",
       "      <th>Year</th>\n",
       "      <th>Age</th>\n",
       "      <th>BPM_A</th>\n",
       "      <th>WORP</th>\n",
       "      <th>VORP</th>\n",
       "      <th>PER</th>\n",
       "      <th>WORP_Chg</th>\n",
       "      <th>VORP_Chg</th>\n",
       "      <th>BPM_A_Chg</th>\n",
       "      <th>PER_Chg</th>\n",
       "      <th>ABBR</th>\n",
       "      <th>YR</th>\n",
       "      <th>W</th>\n",
       "      <th>Win_Delta</th>\n",
       "      <th>Adj_Wins</th>\n",
       "      <th>Prev_W</th>\n",
       "    </tr>\n",
       "  </thead>\n",
       "  <tbody>\n",
       "    <tr>\n",
       "      <th>1</th>\n",
       "      <td>ATL</td>\n",
       "      <td>2012</td>\n",
       "      <td>28.666667</td>\n",
       "      <td>-1.026931</td>\n",
       "      <td>26.987068</td>\n",
       "      <td>9.8</td>\n",
       "      <td>222.3</td>\n",
       "      <td>-16.833053</td>\n",
       "      <td>-6.8</td>\n",
       "      <td>-4.798933</td>\n",
       "      <td>-1.8</td>\n",
       "      <td>ATL</td>\n",
       "      <td>2012</td>\n",
       "      <td>40</td>\n",
       "      <td>6.0</td>\n",
       "      <td>50.0</td>\n",
       "      <td>44.0</td>\n",
       "    </tr>\n",
       "    <tr>\n",
       "      <th>2</th>\n",
       "      <td>ATL</td>\n",
       "      <td>2013</td>\n",
       "      <td>26.888889</td>\n",
       "      <td>-2.037678</td>\n",
       "      <td>28.595704</td>\n",
       "      <td>10.7</td>\n",
       "      <td>245.5</td>\n",
       "      <td>1.608636</td>\n",
       "      <td>0.9</td>\n",
       "      <td>-1.010747</td>\n",
       "      <td>23.2</td>\n",
       "      <td>ATL</td>\n",
       "      <td>2013</td>\n",
       "      <td>44</td>\n",
       "      <td>-6.0</td>\n",
       "      <td>44.0</td>\n",
       "      <td>50.0</td>\n",
       "    </tr>\n",
       "    <tr>\n",
       "      <th>3</th>\n",
       "      <td>ATL</td>\n",
       "      <td>2014</td>\n",
       "      <td>25.739130</td>\n",
       "      <td>0.746189</td>\n",
       "      <td>28.556464</td>\n",
       "      <td>10.4</td>\n",
       "      <td>265.2</td>\n",
       "      <td>-0.039241</td>\n",
       "      <td>-0.3</td>\n",
       "      <td>2.783867</td>\n",
       "      <td>19.7</td>\n",
       "      <td>ATL</td>\n",
       "      <td>2014</td>\n",
       "      <td>38</td>\n",
       "      <td>-6.0</td>\n",
       "      <td>38.0</td>\n",
       "      <td>44.0</td>\n",
       "    </tr>\n",
       "    <tr>\n",
       "      <th>4</th>\n",
       "      <td>ATL</td>\n",
       "      <td>2015</td>\n",
       "      <td>26.631579</td>\n",
       "      <td>-1.173145</td>\n",
       "      <td>24.713699</td>\n",
       "      <td>9.1</td>\n",
       "      <td>218.3</td>\n",
       "      <td>-3.842764</td>\n",
       "      <td>-1.3</td>\n",
       "      <td>-1.919334</td>\n",
       "      <td>-46.9</td>\n",
       "      <td>ATL</td>\n",
       "      <td>2015</td>\n",
       "      <td>60</td>\n",
       "      <td>22.0</td>\n",
       "      <td>60.0</td>\n",
       "      <td>38.0</td>\n",
       "    </tr>\n",
       "    <tr>\n",
       "      <th>6</th>\n",
       "      <td>BOS</td>\n",
       "      <td>2012</td>\n",
       "      <td>28.421053</td>\n",
       "      <td>5.789482</td>\n",
       "      <td>45.277074</td>\n",
       "      <td>16.3</td>\n",
       "      <td>221.5</td>\n",
       "      <td>-7.023784</td>\n",
       "      <td>-3.1</td>\n",
       "      <td>2.267505</td>\n",
       "      <td>-89.9</td>\n",
       "      <td>BOS</td>\n",
       "      <td>2012</td>\n",
       "      <td>39</td>\n",
       "      <td>-8.0</td>\n",
       "      <td>48.0</td>\n",
       "      <td>56.0</td>\n",
       "    </tr>\n",
       "  </tbody>\n",
       "</table>\n",
       "</div>"
      ],
      "text/plain": [
       "    Tm  Year        Age     BPM_A       WORP  VORP    PER   WORP_Chg  \\\n",
       "1  ATL  2012  28.666667 -1.026931  26.987068   9.8  222.3 -16.833053   \n",
       "2  ATL  2013  26.888889 -2.037678  28.595704  10.7  245.5   1.608636   \n",
       "3  ATL  2014  25.739130  0.746189  28.556464  10.4  265.2  -0.039241   \n",
       "4  ATL  2015  26.631579 -1.173145  24.713699   9.1  218.3  -3.842764   \n",
       "6  BOS  2012  28.421053  5.789482  45.277074  16.3  221.5  -7.023784   \n",
       "\n",
       "   VORP_Chg  BPM_A_Chg  PER_Chg ABBR    YR   W  Win_Delta  Adj_Wins  Prev_W  \n",
       "1      -6.8  -4.798933     -1.8  ATL  2012  40        6.0      50.0    44.0  \n",
       "2       0.9  -1.010747     23.2  ATL  2013  44       -6.0      44.0    50.0  \n",
       "3      -0.3   2.783867     19.7  ATL  2014  38       -6.0      38.0    44.0  \n",
       "4      -1.3  -1.919334    -46.9  ATL  2015  60       22.0      60.0    38.0  \n",
       "6      -3.1   2.267505    -89.9  BOS  2012  39       -8.0      48.0    56.0  "
      ]
     },
     "execution_count": 22,
     "metadata": {},
     "output_type": "execute_result"
    }
   ],
   "source": [
    "# the Prev_W column will now take into account normalized 2012 wins as well\n",
    "\n",
    "hoops2['Prev_W'] = hoops2['Adj_Wins'] - hoops2['Win_Delta']\n",
    "hoops2.head()"
   ]
  },
  {
   "cell_type": "markdown",
   "metadata": {},
   "source": [
    "Below are the models for both wins vs outright statistics and win delta vs change in statistics after the normalization of the data."
   ]
  },
  {
   "cell_type": "code",
   "execution_count": 23,
   "metadata": {},
   "outputs": [
    {
     "name": "stdout",
     "output_type": "stream",
     "text": [
      "                            OLS Regression Results                            \n",
      "==============================================================================\n",
      "Dep. Variable:                      W   R-squared:                       0.558\n",
      "Model:                            OLS   Adj. R-squared:                  0.535\n",
      "Method:                 Least Squares   F-statistic:                     23.80\n",
      "Date:                Mon, 04 Feb 2019   Prob (F-statistic):           4.81e-18\n",
      "Time:                        12:21:35   Log-Likelihood:                -426.02\n",
      "No. Observations:                 120   AIC:                             866.0\n",
      "Df Residuals:                     113   BIC:                             885.5\n",
      "Df Model:                           6                                         \n",
      "Covariance Type:            nonrobust                                         \n",
      "==============================================================================\n",
      "                 coef    std err          t      P>|t|      [0.025      0.975]\n",
      "------------------------------------------------------------------------------\n",
      "Intercept     21.1827     18.344      1.155      0.251     -15.160      57.525\n",
      "WORP           0.1710      1.248      0.137      0.891      -2.301       2.643\n",
      "VORP           0.7012      3.424      0.205      0.838      -6.082       7.484\n",
      "PER           -0.0310      0.024     -1.294      0.198      -0.078       0.016\n",
      "BPM_A          0.3191      0.661      0.483      0.630      -0.990       1.628\n",
      "Age            0.4697      0.695      0.676      0.501      -0.907       1.847\n",
      "Prev_W         0.0269      0.111      0.243      0.809      -0.193       0.247\n",
      "==============================================================================\n",
      "Omnibus:                        2.096   Durbin-Watson:                   2.298\n",
      "Prob(Omnibus):                  0.351   Jarque-Bera (JB):                2.050\n",
      "Skew:                           0.250   Prob(JB):                        0.359\n",
      "Kurtosis:                       2.601   Cond. No.                     5.95e+03\n",
      "==============================================================================\n",
      "\n",
      "Warnings:\n",
      "[1] Standard Errors assume that the covariance matrix of the errors is correctly specified.\n",
      "[2] The condition number is large, 5.95e+03. This might indicate that there are\n",
      "strong multicollinearity or other numerical problems.\n"
     ]
    }
   ],
   "source": [
    "# create a new regression in statsmodel for stats vs wins\n",
    "\n",
    "m2 = ols('W ~ WORP + VORP + PER + BPM_A + Age + Prev_W', hoops2).fit()\n",
    "print(m2.summary())"
   ]
  },
  {
   "cell_type": "code",
   "execution_count": 24,
   "metadata": {},
   "outputs": [
    {
     "name": "stdout",
     "output_type": "stream",
     "text": [
      "                            OLS Regression Results                            \n",
      "==============================================================================\n",
      "Dep. Variable:              Win_Delta   R-squared:                       0.388\n",
      "Model:                            OLS   Adj. R-squared:                  0.355\n",
      "Method:                 Least Squares   F-statistic:                     11.93\n",
      "Date:                Mon, 04 Feb 2019   Prob (F-statistic):           2.42e-10\n",
      "Time:                        12:21:35   Log-Likelihood:                -429.92\n",
      "No. Observations:                 120   AIC:                             873.8\n",
      "Df Residuals:                     113   BIC:                             893.3\n",
      "Df Model:                           6                                         \n",
      "Covariance Type:            nonrobust                                         \n",
      "==============================================================================\n",
      "                 coef    std err          t      P>|t|      [0.025      0.975]\n",
      "------------------------------------------------------------------------------\n",
      "Intercept    -22.2188     16.965     -1.310      0.193     -55.830      11.392\n",
      "WORP_Chg       0.7564      0.829      0.913      0.363      -0.885       2.398\n",
      "VORP_Chg      -1.5255      2.274     -0.671      0.504      -6.031       2.980\n",
      "BPM_A_Chg      0.2932      0.446      0.657      0.513      -0.591       1.178\n",
      "Prev_W        -0.4678      0.078     -5.998      0.000      -0.622      -0.313\n",
      "Age            1.5696      0.694      2.261      0.026       0.194       2.945\n",
      "PER_Chg       -0.0383      0.021     -1.836      0.069      -0.080       0.003\n",
      "==============================================================================\n",
      "Omnibus:                        0.212   Durbin-Watson:                   2.417\n",
      "Prob(Omnibus):                  0.899   Jarque-Bera (JB):                0.056\n",
      "Skew:                          -0.049   Prob(JB):                        0.972\n",
      "Kurtosis:                       3.043   Cond. No.                     1.04e+03\n",
      "==============================================================================\n",
      "\n",
      "Warnings:\n",
      "[1] Standard Errors assume that the covariance matrix of the errors is correctly specified.\n",
      "[2] The condition number is large, 1.04e+03. This might indicate that there are\n",
      "strong multicollinearity or other numerical problems.\n"
     ]
    }
   ],
   "source": [
    "# create a new regression in statsmodel for change in stats vs win_delta\n",
    "\n",
    "reg = ols('Win_Delta ~ WORP_Chg + VORP_Chg + BPM_A_Chg + Prev_W +Age + PER_Chg', hoops2).fit()\n",
    "print(reg.summary())"
   ]
  },
  {
   "cell_type": "markdown",
   "metadata": {},
   "source": [
    "The model that looks at Win Delta has improved significantly with the normalization of 2012 game numbers.  The model that looks at outright wins is actually slightly worse (in terms of AIC) but still a better fit than the model examining changes.  The model that looks at wins as opposed to Win Delta also has a larger r-squared number."
   ]
  },
  {
   "cell_type": "markdown",
   "metadata": {},
   "source": [
    "Throughout the exploration of the data it has appeared that PER is not a useful indicator for predicting wins.  I will try the same regression without PER to see how it reacts.\n"
   ]
  },
  {
   "cell_type": "code",
   "execution_count": 25,
   "metadata": {},
   "outputs": [
    {
     "name": "stdout",
     "output_type": "stream",
     "text": [
      "                            OLS Regression Results                            \n",
      "==============================================================================\n",
      "Dep. Variable:              Win_Delta   R-squared:                       0.367\n",
      "Model:                            OLS   Adj. R-squared:                  0.345\n",
      "Method:                 Least Squares   F-statistic:                     16.64\n",
      "Date:                Mon, 04 Feb 2019   Prob (F-statistic):           8.67e-11\n",
      "Time:                        12:21:35   Log-Likelihood:                -431.96\n",
      "No. Observations:                 120   AIC:                             873.9\n",
      "Df Residuals:                     115   BIC:                             887.9\n",
      "Df Model:                           4                                         \n",
      "Covariance Type:            nonrobust                                         \n",
      "==============================================================================\n",
      "                 coef    std err          t      P>|t|      [0.025      0.975]\n",
      "------------------------------------------------------------------------------\n",
      "Intercept    -25.1171     17.028     -1.475      0.143     -58.847       8.613\n",
      "WORP_Chg       0.0656      0.126      0.521      0.603      -0.184       0.315\n",
      "BPM_A_Chg      0.6986      0.390      1.790      0.076      -0.075       1.472\n",
      "Age            1.7229      0.695      2.478      0.015       0.346       3.100\n",
      "Prev_W        -0.4973      0.077     -6.450      0.000      -0.650      -0.345\n",
      "==============================================================================\n",
      "Omnibus:                        0.128   Durbin-Watson:                   2.380\n",
      "Prob(Omnibus):                  0.938   Jarque-Bera (JB):                0.260\n",
      "Skew:                           0.064   Prob(JB):                        0.878\n",
      "Kurtosis:                       2.811   Cond. No.                     1.03e+03\n",
      "==============================================================================\n",
      "\n",
      "Warnings:\n",
      "[1] Standard Errors assume that the covariance matrix of the errors is correctly specified.\n",
      "[2] The condition number is large, 1.03e+03. This might indicate that there are\n",
      "strong multicollinearity or other numerical problems.\n"
     ]
    }
   ],
   "source": [
    "reg1 = ols('Win_Delta ~  WORP_Chg + BPM_A_Chg + Age + Prev_W', hoops2).fit()\n",
    "print(reg1.summary())"
   ]
  },
  {
   "cell_type": "markdown",
   "metadata": {},
   "source": [
    "Some trial and error showed this version of the Win_Delta model to be the best in terms of AIC.  A clear relationship between the prediction and the actual win deltas can be seen in the scatterplot below."
   ]
  },
  {
   "cell_type": "code",
   "execution_count": 26,
   "metadata": {},
   "outputs": [
    {
     "data": {
      "text/plain": [
       "Text(0.5,1,'Relationship Between Predicted and Actual Win_Delta')"
      ]
     },
     "execution_count": 26,
     "metadata": {},
     "output_type": "execute_result"
    },
    {
     "data": {
      "image/png": "[encoded data removed]",
      "text/plain": [
       "<Figure size 432x288 with 1 Axes>"
      ]
     },
     "metadata": {},
     "output_type": "display_data"
    }
   ],
   "source": [
    "plt.scatter(reg1.fittedvalues, hoops2.Win_Delta, alpha = 0.7)\n",
    "plt.xlabel(\"Predicted Change in Wins\")\n",
    "plt.ylabel(\"Actual Change in Wins\")\n",
    "plt.title(\"Relationship Between Predicted and Actual Win_Delta\")"
   ]
  },
  {
   "cell_type": "code",
   "execution_count": 27,
   "metadata": {},
   "outputs": [
    {
     "name": "stdout",
     "output_type": "stream",
     "text": [
      "                            OLS Regression Results                            \n",
      "==============================================================================\n",
      "Dep. Variable:                      W   R-squared:                       0.549\n",
      "Model:                            OLS   Adj. R-squared:                  0.538\n",
      "Method:                 Least Squares   F-statistic:                     47.10\n",
      "Date:                Mon, 04 Feb 2019   Prob (F-statistic):           5.53e-20\n",
      "Time:                        12:21:35   Log-Likelihood:                -427.24\n",
      "No. Observations:                 120   AIC:                             862.5\n",
      "Df Residuals:                     116   BIC:                             873.6\n",
      "Df Model:                           3                                         \n",
      "Covariance Type:            nonrobust                                         \n",
      "==============================================================================\n",
      "                 coef    std err          t      P>|t|      [0.025      0.975]\n",
      "------------------------------------------------------------------------------\n",
      "Intercept     30.2064      6.931      4.358      0.000      16.479      43.934\n",
      "WORP           0.2861      0.175      1.638      0.104      -0.060       0.632\n",
      "BPM_A          0.7740      0.545      1.420      0.158      -0.305       1.853\n",
      "Prev_W         0.0335      0.100      0.336      0.737      -0.164       0.231\n",
      "==============================================================================\n",
      "Omnibus:                        2.048   Durbin-Watson:                   2.351\n",
      "Prob(Omnibus):                  0.359   Jarque-Bera (JB):                2.007\n",
      "Skew:                           0.247   Prob(JB):                        0.367\n",
      "Kurtosis:                       2.602   Cond. No.                         467.\n",
      "==============================================================================\n",
      "\n",
      "Warnings:\n",
      "[1] Standard Errors assume that the covariance matrix of the errors is correctly specified.\n"
     ]
    }
   ],
   "source": [
    "# try the same thing using totals instead of change\n",
    "\n",
    "m3 = ols('W ~  WORP +BPM_A + Prev_W', hoops2).fit()\n",
    "print(m3.summary())"
   ]
  },
  {
   "cell_type": "markdown",
   "metadata": {},
   "source": [
    "This version of the model that predicts wins had the lowest AIC.  The scatter below shows a relatively tight grouping along the regression line."
   ]
  },
  {
   "cell_type": "code",
   "execution_count": 28,
   "metadata": {},
   "outputs": [
    {
     "data": {
      "text/plain": [
       "Text(0.5,1,'Relationship Between Predicted and Actual Wins')"
      ]
     },
     "execution_count": 28,
     "metadata": {},
     "output_type": "execute_result"
    },
    {
     "data": {
      "image/png": "[encoded data removed]",
      "text/plain": [
       "<Figure size 432x288 with 1 Axes>"
      ]
     },
     "metadata": {},
     "output_type": "display_data"
    }
   ],
   "source": [
    "plt.scatter(m3.fittedvalues, hoops2.W, color = 'black', alpha = 0.5)\n",
    "plt.xlabel(\"Predicted Change in Wins\")\n",
    "plt.ylabel(\"Actual Change in Wins\")\n",
    "plt.title(\"Relationship Between Predicted and Actual Wins\")"
   ]
  },
  {
   "cell_type": "markdown",
   "metadata": {},
   "source": [
    "The model that looks at change in metrics vs Win Delta still seems to fit better than the Wins vs outright metrics (higher AIC score) but looking at the scatter, the second model does seem to have improved with the normalization of 2012."
   ]
  },
  {
   "cell_type": "code",
   "execution_count": 29,
   "metadata": {},
   "outputs": [
    {
     "data": {
      "image/png": "[encoded data removed]",
      "text/plain": [
       "<Figure size 432x288 with 1 Axes>"
      ]
     },
     "metadata": {},
     "output_type": "display_data"
    }
   ],
   "source": [
    "#from statsmodels.graphics.regressionplots import *\n",
    "import statsmodels.api as sm\n",
    "fig = sm.graphics.plot_leverage_resid2(reg1, color = 'brown')"
   ]
  },
  {
   "cell_type": "code",
   "execution_count": 30,
   "metadata": {},
   "outputs": [
    {
     "data": {
      "image/png": "[encoded data removed]",
      "text/plain": [
       "<Figure size 576x432 with 1 Axes>"
      ]
     },
     "metadata": {},
     "output_type": "display_data"
    }
   ],
   "source": [
    "fig, ax = plt.subplots(figsize=(8,6))\n",
    "fig = sm.graphics.influence_plot(reg1, ax=ax)"
   ]
  },
  {
   "cell_type": "markdown",
   "metadata": {},
   "source": [
    "Above, we can see that by normalizing the 2012 number of wins to account for the short season we have greatly reduced the number of high leverage points and potential outliers."
   ]
  },
  {
   "cell_type": "code",
   "execution_count": 31,
   "metadata": {},
   "outputs": [
    {
     "data": {
      "text/html": [
       "<div>\n",
       "<style scoped>\n",
       "    .dataframe tbody tr th:only-of-type {\n",
       "        vertical-align: middle;\n",
       "    }\n",
       "\n",
       "    .dataframe tbody tr th {\n",
       "        vertical-align: top;\n",
       "    }\n",
       "\n",
       "    .dataframe thead th {\n",
       "        text-align: right;\n",
       "    }\n",
       "</style>\n",
       "<table border=\"1\" class=\"dataframe\">\n",
       "  <thead>\n",
       "    <tr style=\"text-align: right;\">\n",
       "      <th></th>\n",
       "      <th>Tm</th>\n",
       "      <th>Year</th>\n",
       "      <th>Age</th>\n",
       "      <th>BPM_A</th>\n",
       "      <th>WORP</th>\n",
       "      <th>VORP</th>\n",
       "      <th>PER</th>\n",
       "      <th>WORP_Chg</th>\n",
       "      <th>VORP_Chg</th>\n",
       "      <th>BPM_A_Chg</th>\n",
       "      <th>PER_Chg</th>\n",
       "      <th>ABBR</th>\n",
       "      <th>YR</th>\n",
       "      <th>W</th>\n",
       "      <th>Win_Delta</th>\n",
       "      <th>Adj_Wins</th>\n",
       "      <th>Prev_W</th>\n",
       "    </tr>\n",
       "  </thead>\n",
       "  <tbody>\n",
       "    <tr>\n",
       "      <th>1</th>\n",
       "      <td>ATL</td>\n",
       "      <td>2012</td>\n",
       "      <td>28.666667</td>\n",
       "      <td>-1.026931</td>\n",
       "      <td>26.987068</td>\n",
       "      <td>9.8</td>\n",
       "      <td>222.3</td>\n",
       "      <td>-16.833053</td>\n",
       "      <td>-6.8</td>\n",
       "      <td>-4.798933</td>\n",
       "      <td>-1.8</td>\n",
       "      <td>ATL</td>\n",
       "      <td>2012</td>\n",
       "      <td>40</td>\n",
       "      <td>6.0</td>\n",
       "      <td>50.0</td>\n",
       "      <td>44.0</td>\n",
       "    </tr>\n",
       "    <tr>\n",
       "      <th>2</th>\n",
       "      <td>ATL</td>\n",
       "      <td>2013</td>\n",
       "      <td>26.888889</td>\n",
       "      <td>-2.037678</td>\n",
       "      <td>28.595704</td>\n",
       "      <td>10.7</td>\n",
       "      <td>245.5</td>\n",
       "      <td>1.608636</td>\n",
       "      <td>0.9</td>\n",
       "      <td>-1.010747</td>\n",
       "      <td>23.2</td>\n",
       "      <td>ATL</td>\n",
       "      <td>2013</td>\n",
       "      <td>44</td>\n",
       "      <td>-6.0</td>\n",
       "      <td>44.0</td>\n",
       "      <td>50.0</td>\n",
       "    </tr>\n",
       "    <tr>\n",
       "      <th>3</th>\n",
       "      <td>ATL</td>\n",
       "      <td>2014</td>\n",
       "      <td>25.739130</td>\n",
       "      <td>0.746189</td>\n",
       "      <td>28.556464</td>\n",
       "      <td>10.4</td>\n",
       "      <td>265.2</td>\n",
       "      <td>-0.039241</td>\n",
       "      <td>-0.3</td>\n",
       "      <td>2.783867</td>\n",
       "      <td>19.7</td>\n",
       "      <td>ATL</td>\n",
       "      <td>2014</td>\n",
       "      <td>38</td>\n",
       "      <td>-6.0</td>\n",
       "      <td>38.0</td>\n",
       "      <td>44.0</td>\n",
       "    </tr>\n",
       "    <tr>\n",
       "      <th>4</th>\n",
       "      <td>ATL</td>\n",
       "      <td>2015</td>\n",
       "      <td>26.631579</td>\n",
       "      <td>-1.173145</td>\n",
       "      <td>24.713699</td>\n",
       "      <td>9.1</td>\n",
       "      <td>218.3</td>\n",
       "      <td>-3.842764</td>\n",
       "      <td>-1.3</td>\n",
       "      <td>-1.919334</td>\n",
       "      <td>-46.9</td>\n",
       "      <td>ATL</td>\n",
       "      <td>2015</td>\n",
       "      <td>60</td>\n",
       "      <td>22.0</td>\n",
       "      <td>60.0</td>\n",
       "      <td>38.0</td>\n",
       "    </tr>\n",
       "    <tr>\n",
       "      <th>6</th>\n",
       "      <td>BOS</td>\n",
       "      <td>2012</td>\n",
       "      <td>28.421053</td>\n",
       "      <td>5.789482</td>\n",
       "      <td>45.277074</td>\n",
       "      <td>16.3</td>\n",
       "      <td>221.5</td>\n",
       "      <td>-7.023784</td>\n",
       "      <td>-3.1</td>\n",
       "      <td>2.267505</td>\n",
       "      <td>-89.9</td>\n",
       "      <td>BOS</td>\n",
       "      <td>2012</td>\n",
       "      <td>39</td>\n",
       "      <td>-8.0</td>\n",
       "      <td>48.0</td>\n",
       "      <td>56.0</td>\n",
       "    </tr>\n",
       "  </tbody>\n",
       "</table>\n",
       "</div>"
      ],
      "text/plain": [
       "    Tm  Year        Age     BPM_A       WORP  VORP    PER   WORP_Chg  \\\n",
       "1  ATL  2012  28.666667 -1.026931  26.987068   9.8  222.3 -16.833053   \n",
       "2  ATL  2013  26.888889 -2.037678  28.595704  10.7  245.5   1.608636   \n",
       "3  ATL  2014  25.739130  0.746189  28.556464  10.4  265.2  -0.039241   \n",
       "4  ATL  2015  26.631579 -1.173145  24.713699   9.1  218.3  -3.842764   \n",
       "6  BOS  2012  28.421053  5.789482  45.277074  16.3  221.5  -7.023784   \n",
       "\n",
       "   VORP_Chg  BPM_A_Chg  PER_Chg ABBR    YR   W  Win_Delta  Adj_Wins  Prev_W  \n",
       "1      -6.8  -4.798933     -1.8  ATL  2012  40        6.0      50.0    44.0  \n",
       "2       0.9  -1.010747     23.2  ATL  2013  44       -6.0      44.0    50.0  \n",
       "3      -0.3   2.783867     19.7  ATL  2014  38       -6.0      38.0    44.0  \n",
       "4      -1.3  -1.919334    -46.9  ATL  2015  60       22.0      60.0    38.0  \n",
       "6      -3.1   2.267505    -89.9  BOS  2012  39       -8.0      48.0    56.0  "
      ]
     },
     "execution_count": 31,
     "metadata": {},
     "output_type": "execute_result"
    }
   ],
   "source": [
    "hoops2.head()"
   ]
  },
  {
   "cell_type": "code",
   "execution_count": 32,
   "metadata": {},
   "outputs": [
    {
     "data": {
      "text/html": [
       "<div>\n",
       "<style scoped>\n",
       "    .dataframe tbody tr th:only-of-type {\n",
       "        vertical-align: middle;\n",
       "    }\n",
       "\n",
       "    .dataframe tbody tr th {\n",
       "        vertical-align: top;\n",
       "    }\n",
       "\n",
       "    .dataframe thead th {\n",
       "        text-align: right;\n",
       "    }\n",
       "</style>\n",
       "<table border=\"1\" class=\"dataframe\">\n",
       "  <thead>\n",
       "    <tr style=\"text-align: right;\">\n",
       "      <th></th>\n",
       "      <th>WORP</th>\n",
       "      <th>VORP</th>\n",
       "      <th>PER</th>\n",
       "      <th>BPM_A</th>\n",
       "      <th>Age</th>\n",
       "      <th>Prev_W</th>\n",
       "      <th>Adj_Wins</th>\n",
       "    </tr>\n",
       "  </thead>\n",
       "  <tbody>\n",
       "    <tr>\n",
       "      <th>4</th>\n",
       "      <td>24.713699</td>\n",
       "      <td>9.1</td>\n",
       "      <td>218.3</td>\n",
       "      <td>-1.173145</td>\n",
       "      <td>26.631579</td>\n",
       "      <td>38.0</td>\n",
       "      <td>60.0</td>\n",
       "    </tr>\n",
       "    <tr>\n",
       "      <th>9</th>\n",
       "      <td>22.181314</td>\n",
       "      <td>8.4</td>\n",
       "      <td>345.1</td>\n",
       "      <td>-7.551092</td>\n",
       "      <td>26.080000</td>\n",
       "      <td>25.0</td>\n",
       "      <td>40.0</td>\n",
       "    </tr>\n",
       "    <tr>\n",
       "      <th>14</th>\n",
       "      <td>12.464130</td>\n",
       "      <td>4.7</td>\n",
       "      <td>250.9</td>\n",
       "      <td>-6.440879</td>\n",
       "      <td>27.142857</td>\n",
       "      <td>44.0</td>\n",
       "      <td>38.0</td>\n",
       "    </tr>\n",
       "    <tr>\n",
       "      <th>19</th>\n",
       "      <td>19.435601</td>\n",
       "      <td>7.4</td>\n",
       "      <td>241.2</td>\n",
       "      <td>-4.230818</td>\n",
       "      <td>26.333333</td>\n",
       "      <td>43.0</td>\n",
       "      <td>33.0</td>\n",
       "    </tr>\n",
       "    <tr>\n",
       "      <th>24</th>\n",
       "      <td>35.744942</td>\n",
       "      <td>13.0</td>\n",
       "      <td>182.0</td>\n",
       "      <td>2.308918</td>\n",
       "      <td>28.400000</td>\n",
       "      <td>48.0</td>\n",
       "      <td>50.0</td>\n",
       "    </tr>\n",
       "  </tbody>\n",
       "</table>\n",
       "</div>"
      ],
      "text/plain": [
       "         WORP  VORP    PER     BPM_A        Age  Prev_W  Adj_Wins\n",
       "4   24.713699   9.1  218.3 -1.173145  26.631579    38.0      60.0\n",
       "9   22.181314   8.4  345.1 -7.551092  26.080000    25.0      40.0\n",
       "14  12.464130   4.7  250.9 -6.440879  27.142857    44.0      38.0\n",
       "19  19.435601   7.4  241.2 -4.230818  26.333333    43.0      33.0\n",
       "24  35.744942  13.0  182.0  2.308918  28.400000    48.0      50.0"
      ]
     },
     "execution_count": 32,
     "metadata": {},
     "output_type": "execute_result"
    }
   ],
   "source": [
    "# build a set of data frames that can be used for testing\n",
    "\n",
    "train = hoops2[hoops2['Year'] < 2015]\n",
    "\n",
    "train = train[['WORP', 'VORP' , 'PER' , 'BPM_A' , 'Age' , 'Prev_W', 'Adj_Wins']]\n",
    "test = hoops2[hoops2['Year'] == 2015]\n",
    "test = test[['WORP', 'VORP' , 'PER' , 'BPM_A' , 'Age' , 'Prev_W', 'Adj_Wins']]\n",
    "test.head()"
   ]
  },
  {
   "cell_type": "markdown",
   "metadata": {},
   "source": [
    "With the data now split, it can be put through different models to test their effectiveness."
   ]
  },
  {
   "cell_type": "code",
   "execution_count": 33,
   "metadata": {},
   "outputs": [
    {
     "name": "stdout",
     "output_type": "stream",
     "text": [
      "Coefficients: \n",
      " [-4.43466252  9.5284219  -1.74121477  5.39757364  0.73572278 -0.60535854]\n",
      "Upper and Lower Bounds for 90% Density:  \n",
      " [-11.20011786  18.51012112]\n"
     ]
    }
   ],
   "source": [
    "from sklearn import datasets, linear_model, svm, tree\n",
    "from sklearn.metrics import mean_squared_error, r2_score\n",
    "from sklearn import preprocessing\n",
    "\n",
    "# break up the data frames into x and y sets\n",
    "\n",
    "wins_X_train = train.drop(columns = ['Adj_Wins'])\n",
    "wins_X_test = test.drop(columns = ['Adj_Wins'])\n",
    "wins_y_train =train['Adj_Wins']\n",
    "wins_y_test = test['Adj_Wins']\n",
    "\n",
    "# scale the data\n",
    "scaler = preprocessing.StandardScaler().fit(wins_X_train)\n",
    "wins_X_train = scaler.transform(wins_X_train) \n",
    "wins_X_test = scaler.transform(wins_X_test) \n",
    "\n",
    "# Create linear regression object\n",
    "regr = linear_model.LinearRegression()\n",
    "\n",
    "# Train the model using the training sets\n",
    "regr.fit(wins_X_train, wins_y_train)\n",
    "\n",
    "# Make predictions using the testing set\n",
    "wins_y_pred = regr.predict(wins_X_test)\n",
    "\n",
    "a1= wins_y_test\n",
    "b1 = wins_y_pred\n",
    "\n",
    "# The coefficients\n",
    "print('Coefficients: \\n', regr.coef_)\n",
    "\n",
    "r1 = wins_y_test - wins_y_pred\n",
    "\n",
    "print('Upper and Lower Bounds for 90% Density:  \\n', np.percentile(r1, [5,95]))"
   ]
  },
  {
   "cell_type": "code",
   "execution_count": 34,
   "metadata": {},
   "outputs": [
    {
     "name": "stdout",
     "output_type": "stream",
     "text": [
      "Coefficients: \n",
      " [ 0.          3.75291472 -1.10178457  5.88900433  0.46006983  0.        ]\n",
      "Upper and Lower Bounds for 90% Density:  \n",
      " [-10.2060207   17.97732033]\n"
     ]
    }
   ],
   "source": [
    "# Create linear regression object\n",
    "regr = linear_model.Lasso(alpha = .44)\n",
    "\n",
    "# Train the model using the training sets\n",
    "regr.fit(wins_X_train, wins_y_train)\n",
    "\n",
    "# Make predictions using the testing set\n",
    "wins_y_pred = regr.predict(wins_X_test)\n",
    "\n",
    "a2= wins_y_test\n",
    "b2 = wins_y_pred\n",
    "\n",
    "# The coefficients\n",
    "print('Coefficients: \\n', regr.coef_)\n",
    "\n",
    "\n",
    "r2 = wins_y_test - wins_y_pred\n",
    "\n",
    "print('Upper and Lower Bounds for 90% Density:  \\n', np.percentile(r2, [5,95]))"
   ]
  },
  {
   "cell_type": "code",
   "execution_count": 35,
   "metadata": {},
   "outputs": [
    {
     "name": "stdout",
     "output_type": "stream",
     "text": [
      "Coefficients: \n",
      " [ 1.48008382  3.77853039 -1.76193725  5.04454294  0.68464721 -0.35247972]\n",
      "Upper and Lower Bounds for 90% Density:  \n",
      " [-11.07702534  18.46907355]\n"
     ]
    }
   ],
   "source": [
    "# Create linear regression object\n",
    "regr = linear_model.Ridge(alpha =.39)\n",
    "\n",
    "# Train the model using the training sets\n",
    "regr.fit(wins_X_train, wins_y_train)\n",
    "\n",
    "# Make predictions using the testing set\n",
    "wins_y_pred = regr.predict(wins_X_test)\n",
    "\n",
    "a3= wins_y_test\n",
    "b3 = wins_y_pred\n",
    "\n",
    "# The coefficients\n",
    "print('Coefficients: \\n', regr.coef_)\n",
    "\n",
    "r3 = wins_y_test - wins_y_pred\n",
    "\n",
    "print('Upper and Lower Bounds for 90% Density:  \\n', np.percentile(r3, [5,95]))"
   ]
  },
  {
   "cell_type": "code",
   "execution_count": 36,
   "metadata": {},
   "outputs": [
    {
     "name": "stdout",
     "output_type": "stream",
     "text": [
      "Coefficients: \n",
      " [ 2.86561418  3.132102   -0.95020797  3.0402176   0.97268968  0.79767971]\n",
      "Upper and Lower Bounds for 90% Density:  \n",
      " [-6.91869194 21.04946933]\n"
     ]
    }
   ],
   "source": [
    "# Create linear regression object\n",
    "regr = svm.LinearSVR()\n",
    "\n",
    "# Train the model using the training sets\n",
    "regr.fit(wins_X_train, wins_y_train)\n",
    "\n",
    "# Make predictions using the testing set\n",
    "wins_y_pred = regr.predict(wins_X_test)\n",
    "\n",
    "a4= wins_y_test\n",
    "b4 = wins_y_pred\n",
    "\n",
    "# The coefficients\n",
    "print('Coefficients: \\n', regr.coef_)\n",
    "\n",
    "r4 = wins_y_test - wins_y_pred\n",
    "\n",
    "print('Upper and Lower Bounds for 90% Density:  \\n', np.percentile(r4, [5,95]))"
   ]
  },
  {
   "cell_type": "code",
   "execution_count": 37,
   "metadata": {},
   "outputs": [
    {
     "name": "stdout",
     "output_type": "stream",
     "text": [
      "Coefficients: \n",
      " [ 2.83568841  2.87420391 -1.65203126  3.6017439   0.75569442  0.38156254]\n",
      "Upper and Lower Bounds for 90% Density:  \n",
      " [-9.67732077 18.17718069]\n"
     ]
    }
   ],
   "source": [
    "# Create linear regression object\n",
    "regr = linear_model.RidgeCV(alphas = (0.1, 0.3, .5, 1, 2, 5, 10))\n",
    "\n",
    "# Train the model using the training sets\n",
    "regr.fit(wins_X_train, wins_y_train)\n",
    "\n",
    "# Make predictions using the testing set\n",
    "wins_y_pred = regr.predict(wins_X_test)\n",
    "\n",
    "a5= wins_y_test\n",
    "b5 = wins_y_pred\n",
    "\n",
    "# The coefficients\n",
    "print('Coefficients: \\n', regr.coef_)\n",
    "\n",
    "r5 = wins_y_test - wins_y_pred\n",
    "\n",
    "print('Upper and Lower Bounds for 90% Density:  \\n', np.percentile(r5, [5,95]))"
   ]
  },
  {
   "cell_type": "code",
   "execution_count": 38,
   "metadata": {},
   "outputs": [
    {
     "name": "stdout",
     "output_type": "stream",
     "text": [
      "Coefficients: \n",
      " [ 0.          4.73624354 -1.56336138  5.1987636   0.58501147 -0.        ]\n",
      "Upper and Lower Bounds for 90% Density:  \n",
      " [-10.44452362  18.32224162]\n"
     ]
    }
   ],
   "source": [
    "# Create linear regression object\n",
    "regr = linear_model.LassoCV()\n",
    "\n",
    "# Train the model using the training sets\n",
    "regr.fit(wins_X_train, wins_y_train)\n",
    "\n",
    "# Make predictions using the testing set\n",
    "wins_y_pred = regr.predict(wins_X_test)\n",
    "\n",
    "a6= wins_y_test\n",
    "b6 = wins_y_pred\n",
    "\n",
    "# The coefficients\n",
    "print('Coefficients: \\n', regr.coef_)\n",
    "\n",
    "r6 = wins_y_test - wins_y_pred\n",
    "\n",
    "print('Upper and Lower Bounds for 90% Density:  \\n', np.percentile(r6, [5,95]))"
   ]
  },
  {
   "cell_type": "code",
   "execution_count": 39,
   "metadata": {
    "scrolled": true
   },
   "outputs": [
    {
     "data": {
      "image/png": "[encoded data removed]",
      "text/plain": [
       "<Figure size 1080x864 with 6 Axes>"
      ]
     },
     "metadata": {},
     "output_type": "display_data"
    }
   ],
   "source": [
    "fig = plt.figure()\n",
    "fig.set_figheight(12)\n",
    "fig.set_figwidth(15)\n",
    "\n",
    "ax1 = fig.add_subplot (2,3,1)\n",
    "plt.hist(r1)\n",
    "plt.xlabel(\"Number of Wins\")\n",
    "plt.ylabel(\"Number of Results\")\n",
    "plt.title('Linear Regression')\n",
    "plt.text(0, 7, \"Mean squared error: %.2f\"\n",
    "      % mean_squared_error(a1,b1))\n",
    "plt.text(0, 6.5, 'Variance score: %.2f' % r2_score(a1,b1))\n",
    "\n",
    "ax2 = fig.add_subplot (2,3,2)\n",
    "plt.hist(r2, color = 'grey')\n",
    "plt.xlabel(\"Number of Wins\")\n",
    "plt.ylabel(\"Number of Results\")\n",
    "plt.title('Lasso Regression')\n",
    "plt.text(0, 6.5, \"Mean squared error: %.2f\"\n",
    "      % mean_squared_error(a2,b2))\n",
    "plt.text(0, 6, 'Variance score: %.2f' % r2_score(a2,b2))\n",
    "\n",
    "ax3 = fig.add_subplot (2,3,3)\n",
    "plt.hist(r3)\n",
    "plt.xlabel(\"Number of Wins\")\n",
    "plt.ylabel(\"Number of Results\")\n",
    "plt.title('Ridge Regression')\n",
    "plt.text(0, 6.5, \"Mean squared error: %.2f\"\n",
    "      % mean_squared_error(a3,b3))\n",
    "plt.text(0, 6, 'Variance score: %.2f' % r2_score(a3,b3))\n",
    "\n",
    "ax4 = fig.add_subplot (2,3,4)\n",
    "plt.hist(r4, color = 'grey')\n",
    "plt.xlabel(\"Number of Wins\")\n",
    "plt.ylabel(\"Number of Results\")\n",
    "plt.title('Linear SVR')\n",
    "plt.text(2, 6, \"Mean squared error: %.2f\"\n",
    "      % mean_squared_error(a4,b4))\n",
    "plt.text(2, 5.5, 'Variance score: %.2f' % r2_score(a4,b4))\n",
    "\n",
    "ax5 = fig.add_subplot (2,3,5)\n",
    "plt.hist(r5)\n",
    "plt.xlabel(\"Number of Wins\")\n",
    "plt.ylabel(\"Number of Results\")\n",
    "plt.title('Ridge Regression with Cross Validation')\n",
    "plt.text(0, 7, \"Mean squared error: %.2f\"\n",
    "      % mean_squared_error(a5,b5))\n",
    "plt.text(0, 6.5, 'Variance score: %.2f' % r2_score(a5,b5))\n",
    "\n",
    "ax6 = fig.add_subplot (2,3,6)\n",
    "plt.hist(r6, color = 'grey')\n",
    "plt.text(0, 6, \"Mean squared error: %.2f\"\n",
    "      % mean_squared_error(a6,b6))\n",
    "plt.text(0, 5.5, 'Variance score: %.2f' % r2_score(a6,b6))\n",
    "plt.xlabel(\"Number of Wins\")\n",
    "plt.ylabel(\"Number of Results\")\n",
    "plt.title('Lasso Regression with Cross Validation')\n",
    "\n",
    "plt.tight_layout()"
   ]
  },
  {
   "cell_type": "markdown",
   "metadata": {},
   "source": [
    "The above histograms show the distribution of the residuals for each model as well as the r-squared value and the variance score. Below is a 5 fold cross validation of the r-squared of the training set."
   ]
  },
  {
   "cell_type": "code",
   "execution_count": 40,
   "metadata": {},
   "outputs": [
    {
     "name": "stdout",
     "output_type": "stream",
     "text": [
      "Tuned Logistic Regression Parameters: {'alpha': 0.22448979591836737}\n",
      "Best score is 0.5987309844148684\n"
     ]
    }
   ],
   "source": [
    "#tune alpha for Wins Lasso model\n",
    "\n",
    "from sklearn.model_selection import GridSearchCV\n",
    "\n",
    "# Setup the hyperparameter grid\n",
    "vals = np.linspace(0.05, 1)\n",
    "param_grid = {'alpha': vals}\n",
    "\n",
    "# Instantiate a logistic regression classifier: logreg\n",
    "lasso = linear_model.Lasso()\n",
    "\n",
    "# Instantiate the GridSearchCV object: logreg_cv\n",
    "lasso_cv = GridSearchCV(lasso, param_grid, cv=5)\n",
    "\n",
    "# Fit it to the data\n",
    "lasso_cv.fit(wins_X_train, wins_y_train)\n",
    "\n",
    "# Print the tuned parameters and score\n",
    "print(\"Tuned Logistic Regression Parameters: {}\".format(lasso_cv.best_params_)) \n",
    "print(\"Best score is {}\".format(lasso_cv.best_score_))"
   ]
  },
  {
   "cell_type": "code",
   "execution_count": 41,
   "metadata": {},
   "outputs": [
    {
     "name": "stdout",
     "output_type": "stream",
     "text": [
      "Tuned Logistic Regression Parameters: {'alpha': 1.0}\n",
      "Best score is 0.595054514473092\n"
     ]
    }
   ],
   "source": [
    "#tune alpha for Wins Ridge model\n",
    "\n",
    "# Setup the hyperparameter grid\n",
    "vals = np.linspace(0.1, 1)\n",
    "param_grid = {'alpha': vals}\n",
    "\n",
    "# Instantiate a logistic regression classifier: logreg\n",
    "ridge = linear_model.Ridge()\n",
    "\n",
    "# Instantiate the GridSearchCV object: logreg_cv\n",
    "ridge_cv = GridSearchCV(ridge, param_grid, cv=5)\n",
    "\n",
    "# Fit it to the data\n",
    "ridge_cv.fit(wins_X_train, wins_y_train)\n",
    "\n",
    "# Print the tuned parameters and score\n",
    "print(\"Tuned Logistic Regression Parameters: {}\".format(ridge_cv.best_params_)) \n",
    "print(\"Best score is {}\".format(ridge_cv.best_score_))"
   ]
  },
  {
   "cell_type": "code",
   "execution_count": 42,
   "metadata": {},
   "outputs": [
    {
     "name": "stdout",
     "output_type": "stream",
     "text": [
      "[0.54805653 0.38312057 0.61857339 0.75344096 0.62224865]\n",
      "Average 5-Fold CV Score: 0.5850880185802309\n"
     ]
    }
   ],
   "source": [
    "from sklearn.model_selection import cross_val_score\n",
    "\n",
    "# Create a linear regression object: reg\n",
    "reg = LinearRegression()\n",
    "\n",
    "# Compute 5-fold cross-validation scores: cv_scores\n",
    "cv_scores = cross_val_score(reg, wins_X_train, wins_y_train, cv= 5)\n",
    "\n",
    "# Print the 5-fold cross-validation scores\n",
    "print(cv_scores)\n",
    "\n",
    "print(\"Average 5-Fold CV Score: {}\".format(np.mean(cv_scores)))"
   ]
  },
  {
   "cell_type": "code",
   "execution_count": 43,
   "metadata": {},
   "outputs": [
    {
     "name": "stdout",
     "output_type": "stream",
     "text": [
      " Linear Regression Coefficients: \n",
      " [ 20.07127222 -19.10687147  -0.3838953    3.43108277   2.51221598\n",
      "  -5.68162547]\n",
      "Upper and Lower Bounds for 90% Density:  \n",
      " [-16.8901179   18.03193943]\n",
      " Lasso Coefficients: \n",
      " [ 0.63899793  0.         -0.22744077  3.43892433  1.89430187 -5.2185008 ]\n",
      "Upper and Lower Bounds for 90% Density:  \n",
      " [-16.82485357  17.95218329]\n",
      " Ridge Coefficients: \n",
      " [ 1.45052217  0.43090135 -0.77923413  2.42471384  1.86531097 -4.94265008]\n",
      "Upper and Lower Bounds for 90% Density:  \n",
      " [-16.48389899  17.47435921]\n",
      " Linear SVM Coefficients: \n",
      " [ 0.93535021 -0.57346538 -1.00945418  2.90071812  2.1550466  -4.50236098]\n",
      "Upper and Lower Bounds for 90% Density:  \n",
      " [-16.17821924  17.66682112]\n",
      " Ridge Regression CV Coefficients: \n",
      " [ 1.45052217  0.43090135 -0.77923413  2.42471384  1.86531097 -4.94265008]\n",
      "Upper and Lower Bounds for 90% Density:  \n",
      " [-16.48389899  17.47435921]\n",
      " Lasso CV Coefficients: \n",
      " [ 0.80931473  0.         -0.3728941   3.43633437  2.19011196 -5.51303178]\n",
      " Upper and Lower Bounds for 90% Density:  \n",
      " [-16.6985705   17.95578766]\n"
     ]
    }
   ],
   "source": [
    "# build a set of data frames that can be used for testing\n",
    "\n",
    "from sklearn.preprocessing import StandardScaler\n",
    "\n",
    "train = hoops2[hoops2['Year'] < 2015]\n",
    "train = train[['WORP_Chg', 'VORP_Chg' , 'PER_Chg' , 'BPM_A_Chg' , 'Age' , 'Prev_W', 'Win_Delta']]\n",
    "\n",
    "test = hoops2[hoops2['Year'] == 2015]\n",
    "test = test[['WORP_Chg', 'VORP_Chg' , 'PER_Chg' , 'BPM_A_Chg' , 'Age' , 'Prev_W', 'Win_Delta']]\n",
    "test.head()\n",
    "\n",
    "# break up the data frames into x and y sets\n",
    "\n",
    "winD_X_train = train.drop(columns = ['Win_Delta'])\n",
    "winD_X_test = test.drop(columns = ['Win_Delta'])\n",
    "winD_y_train =train['Win_Delta']\n",
    "winD_y_test = test['Win_Delta']\n",
    "\n",
    "# Standarize features\n",
    "scaler = StandardScaler()\n",
    "winD_X_train = scaler.fit_transform(winD_X_train) \n",
    "winD_X_test = scaler.fit_transform(winD_X_test)\n",
    "\n",
    "# Create linear regression object\n",
    "regrD = linear_model.LinearRegression()\n",
    "\n",
    "# Train the model using the training sets\n",
    "regrD.fit(winD_X_train, winD_y_train)\n",
    "\n",
    "# Make predictions using the testing set\n",
    "winD_y_pred = regrD.predict(winD_X_test)\n",
    "\n",
    "aD1= winD_y_test\n",
    "bD1 = winD_y_pred\n",
    "\n",
    "# The coefficients\n",
    "print(' Linear Regression Coefficients: \\n', regrD.coef_)\n",
    "rD1 = winD_y_test - winD_y_pred\n",
    "print('Upper and Lower Bounds for 90% Density:  \\n', np.percentile(rD1, [5,95]))\n",
    "\n",
    "# Create lasso regression object\n",
    "regrD = linear_model.Lasso(alpha = .37)\n",
    "\n",
    "# Train the model using the training sets\n",
    "regrD.fit(winD_X_train, winD_y_train)\n",
    "\n",
    "# Make predictions using the testing set\n",
    "winD_y_pred = regrD.predict(winD_X_test)\n",
    "\n",
    "aD2= winD_y_test\n",
    "bD2 = winD_y_pred\n",
    "\n",
    "# The coefficients\n",
    "print(' Lasso Coefficients: \\n', regrD.coef_)\n",
    "\n",
    "rD2 = winD_y_test - winD_y_pred\n",
    "\n",
    "print('Upper and Lower Bounds for 90% Density:  \\n', np.percentile(rD2, [5,95]))\n",
    "\n",
    "# Create Ridge linear regression object\n",
    "regrD = linear_model.Ridge(alpha = 10)\n",
    "\n",
    "# Train the model using the training sets\n",
    "regrD.fit(winD_X_train, winD_y_train)\n",
    "\n",
    "# Make predictions using the testing set\n",
    "winD_y_pred = regrD.predict(winD_X_test)\n",
    "\n",
    "aD3= winD_y_test\n",
    "bD3 = winD_y_pred\n",
    "\n",
    "rD3 = winD_y_test - winD_y_pred\n",
    " \n",
    "# The coefficients\n",
    "print(' Ridge Coefficients: \\n', regrD.coef_)\n",
    "print('Upper and Lower Bounds for 90% Density:  \\n', np.percentile(rD3, [5,95]))\n",
    "\n",
    "# Create linear regression object\n",
    "regrD = svm.LinearSVR()\n",
    "\n",
    "# Train the model using the training sets\n",
    "regrD.fit(winD_X_train, winD_y_train)\n",
    "\n",
    "# Make predictions using the testing set\n",
    "winD_y_pred = regrD.predict(winD_X_test)\n",
    "\n",
    "aD4= winD_y_test\n",
    "bD4 = winD_y_pred\n",
    "\n",
    "rD4 = winD_y_test - winD_y_pred\n",
    "\n",
    "# The coefficients\n",
    "print(' Linear SVM Coefficients: \\n', regrD.coef_)\n",
    "print('Upper and Lower Bounds for 90% Density:  \\n', np.percentile(rD4, [5,95]))\n",
    "# Create linear regression object\n",
    "regrD = linear_model.RidgeCV()\n",
    "\n",
    "# Train the model using the training sets\n",
    "regrD.fit(winD_X_train, winD_y_train)\n",
    "\n",
    "# Make predictions using the testing set\n",
    "winD_y_pred = regrD.predict(winD_X_test)\n",
    "\n",
    "aD5= winD_y_test\n",
    "bD5 = winD_y_pred\n",
    "\n",
    "rD5 = winD_y_test - winD_y_pred\n",
    "\n",
    "# The coefficients\n",
    "print(' Ridge Regression CV Coefficients: \\n', regrD.coef_)\n",
    "print('Upper and Lower Bounds for 90% Density:  \\n', np.percentile(rD5, [5,95]))\n",
    "\n",
    "# Create linear regression object\n",
    "regrD = linear_model.LassoCV()\n",
    "\n",
    "# Train the model using the training sets\n",
    "regrD.fit(winD_X_train, winD_y_train)\n",
    "\n",
    "# Make predictions using the testing set\n",
    "winD_y_pred = regrD.predict(winD_X_test)\n",
    "\n",
    "aD6= winD_y_test\n",
    "bD6 = winD_y_pred\n",
    "\n",
    "rD6 = winD_y_test - winD_y_pred\n",
    "\n",
    "# The coefficients\n",
    "print(' Lasso CV Coefficients: \\n', regrD.coef_)\n",
    "print(' Upper and Lower Bounds for 90% Density:  \\n', np.percentile(rD6, [5,95]))"
   ]
  },
  {
   "cell_type": "code",
   "execution_count": 44,
   "metadata": {},
   "outputs": [
    {
     "data": {
      "image/png": "[encoded data removed]",
      "text/plain": [
       "<Figure size 1080x864 with 6 Axes>"
      ]
     },
     "metadata": {},
     "output_type": "display_data"
    }
   ],
   "source": [
    "fig = plt.figure()\n",
    "fig.set_figheight(12)\n",
    "fig.set_figwidth(15)\n",
    "\n",
    "\n",
    "ax1 = fig.add_subplot (2,3,1)\n",
    "plt.hist(rD1)\n",
    "plt.xlabel(\"Number of Wins\")\n",
    "plt.ylabel(\"Number of Results\")\n",
    "plt.title('Linear Regression')\n",
    "plt.text(0, 7, \"Mean squared error: %.2f\"\n",
    "      % mean_squared_error(aD1,bD1))\n",
    "plt.text(0, 6.5, 'Variance score: %.2f' % r2_score(aD1,bD1))\n",
    "\n",
    "ax2 = fig.add_subplot (2,3,2)\n",
    "plt.hist(rD2, color = 'grey')\n",
    "plt.xlabel(\"Number of Wins\")\n",
    "plt.ylabel(\"Number of Results\")\n",
    "plt.title('Lasso Regression')\n",
    "plt.text(0, 7, \"Mean squared error: %.2f\"\n",
    "      % mean_squared_error(aD2,bD2))\n",
    "plt.text(0, 6.5, 'Variance score: %.2f' % r2_score(aD2,bD2))\n",
    "\n",
    "ax3 = fig.add_subplot (2,3,3)\n",
    "plt.hist(rD3)\n",
    "plt.xlabel(\"Number of Wins\")\n",
    "plt.ylabel(\"Number of Results\")\n",
    "plt.title('Ridge Regression')\n",
    "plt.text(0, 6, \"Mean squared error: %.2f\"\n",
    "      % mean_squared_error(aD3,bD3))\n",
    "plt.text(0, 5.5, 'Variance score: %.2f' % r2_score(aD3,bD3))\n",
    "\n",
    "ax4 = fig.add_subplot (2,3,4)\n",
    "plt.hist(rD4, color = 'grey')\n",
    "plt.xlabel(\"Number of Wins\")\n",
    "plt.ylabel(\"Number of Results\")\n",
    "plt.title('Linear SVR')\n",
    "plt.text(0, 7, \"Mean squared error: %.2f\"\n",
    "      % mean_squared_error(aD4,bD4))\n",
    "plt.text(0, 6.5, 'Variance score: %.2f' % r2_score(aD4,bD4))\n",
    "\n",
    "ax5 = fig.add_subplot (2,3,5)\n",
    "plt.hist(rD5)\n",
    "plt.xlabel(\"Number of Wins\")\n",
    "plt.ylabel(\"Number of Results\")\n",
    "plt.title('Ridge Regression with Cross Validation')\n",
    "plt.text(0, 6, \"Mean squared error: %.2f\"\n",
    "      % mean_squared_error(aD5,bD5))\n",
    "plt.text(0, 5.5, 'Variance score: %.2f' % r2_score(aD5,bD5))\n",
    "\n",
    "ax6 = fig.add_subplot (2,3,6)\n",
    "plt.hist(rD6, color = 'grey')\n",
    "plt.text(0, 7, \"Mean squared error: %.2f\"\n",
    "      % mean_squared_error(aD6,bD6))\n",
    "plt.text(0, 6.5, 'Variance score: %.2f' % r2_score(aD6,bD6))\n",
    "plt.xlabel(\"Number of Wins\")\n",
    "plt.ylabel(\"Number of Results\")\n",
    "plt.title('Lasso Regression with Cross Validation')\n",
    "\n",
    "plt.tight_layout()"
   ]
  },
  {
   "cell_type": "markdown",
   "metadata": {},
   "source": [
    "The alpha variables above were originally randomly selected. Using GridSearchCV below, I have calculated the alpha inputs that should generate the best (highest variance scores)."
   ]
  },
  {
   "cell_type": "code",
   "execution_count": 45,
   "metadata": {},
   "outputs": [
    {
     "name": "stderr",
     "output_type": "stream",
     "text": [
      "C:\\Conda\\lib\\site-packages\\sklearn\\linear_model\\coordinate_descent.py:491: ConvergenceWarning: Objective did not converge. You might want to increase the number of iterations. Fitting data with very small alpha may cause precision problems.\n",
      "  ConvergenceWarning)\n"
     ]
    },
    {
     "name": "stdout",
     "output_type": "stream",
     "text": [
      "Lasso Tuned Logistic Regression Parameters: {'alpha': 0.3683673469387755}\n",
      "Best score is 0.27087762247779934\n",
      "Ridge Tuned Logistic Regression Parameters: {'alpha': 10}\n",
      "Best score is 0.28163604604645187\n"
     ]
    }
   ],
   "source": [
    "#tune alpha for Win Delta Lasso model\n",
    "\n",
    "# Setup the hyperparameter grid\n",
    "vals = np.linspace(0.05, 2)\n",
    "param_grid = {'alpha': vals}\n",
    "\n",
    "# Instantiate a logistic regression classifier: logreg\n",
    "lasso = linear_model.Lasso()\n",
    "\n",
    "# Instantiate the GridSearchCV object: logreg_cv\n",
    "lasso_cv = GridSearchCV(lasso, param_grid, cv=5)\n",
    "\n",
    "# Fit it to the data\n",
    "lasso_cv.fit(winD_X_train, winD_y_train)\n",
    "\n",
    "# Print the tuned parameters and score\n",
    "print(\"Lasso Tuned Logistic Regression Parameters: {}\".format(lasso_cv.best_params_)) \n",
    "print(\"Best score is {}\".format(lasso_cv.best_score_))\n",
    "print\n",
    "\n",
    "#tune alpha for Win Delta Ridge model\n",
    "\n",
    "# Setup the hyperparameter grid\n",
    "vals = [0.1, 0.5, 1, 2, 10] \n",
    "param_grid = {'alpha': vals}\n",
    "\n",
    "# Instantiate a logistic regression classifier: logreg\n",
    "ridge = linear_model.Ridge()\n",
    "\n",
    "# Instantiate the GridSearchCV object: logreg_cv\n",
    "ridge_cv = GridSearchCV(ridge, param_grid, cv=5)\n",
    "\n",
    "# Fit it to the data\n",
    "ridge_cv.fit(winD_X_train, winD_y_train)\n",
    "\n",
    "# Print the tuned parameters and score\n",
    "print(\"Ridge Tuned Logistic Regression Parameters: {}\".format(ridge_cv.best_params_)) \n",
    "print(\"Best score is {}\".format(ridge_cv.best_score_))"
   ]
  },
  {
   "cell_type": "markdown",
   "metadata": {},
   "source": [
    "Above are optimized alpha tunings for the Lasso and Ridge versions of the Win Delta model\n",
    "which I plugged back into the Win Delta models."
   ]
  },
  {
   "cell_type": "markdown",
   "metadata": {},
   "source": [
    "One important takeaway from the information that is presented above is that the wins model seems to be a significantly better predictor of future performance than the model that examines win delta.  for this reason I will continue to examine the wins model, at least for the time being."
   ]
  },
  {
   "cell_type": "markdown",
   "metadata": {},
   "source": [
    "While Lasso uses L1 regularization and Ridge uses L2 regularization, a combination of the 2 can be used by ElasticNet."
   ]
  },
  {
   "cell_type": "code",
   "execution_count": 95,
   "metadata": {},
   "outputs": [
    {
     "name": "stdout",
     "output_type": "stream",
     "text": [
      "Coefficients: \n",
      " [ 2.75355532  2.91132579 -1.69506264  4.10078556  0.6815501   0.046825  ]\n",
      "Upper and Lower Bounds for 90% Density:  \n",
      " [-10.40761411  18.29902961]\n"
     ]
    },
    {
     "data": {
      "text/plain": [
       "Text(0.5,1,'Elastic Net Regression')"
      ]
     },
     "execution_count": 95,
     "metadata": {},
     "output_type": "execute_result"
    },
    {
     "data": {
      "image/png": "[encoded data removed]",
      "text/plain": [
       "<Figure size 432x288 with 1 Axes>"
      ]
     },
     "metadata": {},
     "output_type": "display_data"
    }
   ],
   "source": [
    "# build a set of data frames that can be used for testing\n",
    "\n",
    "train = hoops2[hoops2['Year'] < 2015]\n",
    "\n",
    "train = train[['WORP', 'VORP' , 'PER' , 'BPM_A' , 'Age' , 'Prev_W', 'Adj_Wins']]\n",
    "test = hoops2[hoops2['Year'] == 2015]\n",
    "test = test[['WORP', 'VORP' , 'PER' , 'BPM_A' , 'Age' , 'Prev_W', 'Adj_Wins']]\n",
    "test.head()\n",
    "\n",
    "# break up the data frames into x and y sets\n",
    "\n",
    "wins_X_train = train.drop(columns = ['Adj_Wins'])\n",
    "wins_X_test = test.drop(columns = ['Adj_Wins'])\n",
    "wins_y_train =train['Adj_Wins']\n",
    "wins_y_test = test['Adj_Wins']\n",
    "\n",
    "# scale the data\n",
    "scaler = preprocessing.StandardScaler().fit(wins_X_train)\n",
    "wins_X_train = scaler.transform(wins_X_train) \n",
    "wins_X_test = scaler.transform(wins_X_test) \n",
    "\n",
    "# Create linear regression object\n",
    "regr = linear_model.ElasticNet(l1_ratio = .5, alpha= .1)\n",
    "# Train the model using the training sets\n",
    "regr.fit(wins_X_train, wins_y_train)\n",
    "\n",
    "# Make predictions using the testing set\n",
    "wins_y_pred = regr.predict(wins_X_test)\n",
    "\n",
    "# The coefficients\n",
    "print('Coefficients: \\n', regr.coef_)\n",
    "\n",
    "EN = wins_y_test - wins_y_pred\n",
    "\n",
    "print('Upper and Lower Bounds for 90% Density:  \\n', np.percentile(EN, [5,95]))\n",
    "\n",
    "plt.hist(EN)\n",
    "plt.text(0, 6, \"Mean squared error: %.2f\"\n",
    "      % mean_squared_error(wins_y_test, wins_y_pred))\n",
    "plt.text(0, 5.5, 'Variance score: %.2f' % r2_score(wins_y_test, wins_y_pred))\n",
    "plt.xlabel(\"Number of Wins\")\n",
    "plt.ylabel(\"Number of Results\")\n",
    "plt.title('Elastic Net Regression')"
   ]
  },
  {
   "cell_type": "markdown",
   "metadata": {},
   "source": [
    "This model can also be tuned using a grid search for both l1 ratio and alpha."
   ]
  },
  {
   "cell_type": "code",
   "execution_count": 47,
   "metadata": {},
   "outputs": [
    {
     "name": "stdout",
     "output_type": "stream",
     "text": [
      "Tuned l1 and alpha Parameters for ElasticNet: {'alpha': 0.1, 'l1_ratio': 0.5}\n",
      "Best score is 0.5991215726863579\n"
     ]
    }
   ],
   "source": [
    "#tune l1 and alpha for ElasticNet model\n",
    "\n",
    "# Setup the hyperparameter grid\n",
    "l1s = (0.4, 0.5, 0.6)\n",
    "alphas = (0.05, .1, .3, .5, 1, 2, 3)\n",
    "param_grid = {'l1_ratio': l1s, 'alpha': alphas}\n",
    "\n",
    "# Instantiate a logistic regression classifier: logreg\n",
    "EN = linear_model.ElasticNet(max_iter=1000, tol=.001)\n",
    "\n",
    "# Instantiate the GridSearchCV object: logreg_cv\n",
    "EN_cv = GridSearchCV(EN, param_grid, cv=5)\n",
    "\n",
    "# Fit it to the data\n",
    "EN_cv.fit(wins_X_train, wins_y_train)\n",
    "\n",
    "# Print the tuned parameters and score\n",
    "print(\"Tuned l1 and alpha Parameters for ElasticNet: {}\".format(EN_cv.best_params_)) \n",
    "print(\"Best score is {}\".format(EN_cv.best_score_))\n"
   ]
  },
  {
   "cell_type": "code",
   "execution_count": 48,
   "metadata": {},
   "outputs": [
    {
     "data": {
      "text/plain": [
       "0.49160750530739744"
      ]
     },
     "execution_count": 48,
     "metadata": {},
     "output_type": "execute_result"
    }
   ],
   "source": [
    "best_model = EN_cv.best_estimator_\n",
    "best_model.score(wins_X_test, wins_y_test)"
   ]
  },
  {
   "cell_type": "code",
   "execution_count": 49,
   "metadata": {},
   "outputs": [
    {
     "data": {
      "text/plain": [
       "ElasticNet(alpha=0.1, copy_X=True, fit_intercept=True, l1_ratio=0.5,\n",
       "      max_iter=1000, normalize=False, positive=False, precompute=False,\n",
       "      random_state=None, selection='cyclic', tol=0.001, warm_start=False)"
      ]
     },
     "execution_count": 49,
     "metadata": {},
     "output_type": "execute_result"
    }
   ],
   "source": [
    "best_model"
   ]
  },
  {
   "cell_type": "code",
   "execution_count": 50,
   "metadata": {},
   "outputs": [],
   "source": [
    "from sklearn import ensemble\n",
    "\n",
    "# build a set of data frames that can be used for testing\n",
    "\n",
    "train = hoops2[hoops2['Year'] < 2015]\n",
    "\n",
    "train = train[['WORP', 'VORP' , 'PER' , 'BPM_A' , 'Age' , 'Prev_W', 'Adj_Wins']]\n",
    "test = hoops2[hoops2['Year'] == 2015]\n",
    "test = test[['WORP', 'VORP' , 'PER' , 'BPM_A' , 'Age' , 'Prev_W', 'Adj_Wins']]\n",
    "test.head()\n",
    "\n",
    "# break up the data frames into x and y sets\n",
    "\n",
    "wins_X_train = train.drop(columns = ['Adj_Wins'])\n",
    "wins_X_test = test.drop(columns = ['Adj_Wins'])\n",
    "wins_y_train =train['Adj_Wins']\n",
    "wins_y_test = test['Adj_Wins']\n",
    "\n",
    "# scale the data\n",
    "scaler = preprocessing.StandardScaler().fit(wins_X_train)\n",
    "wins_X_train = scaler.transform(wins_X_train) \n",
    "wins_X_test = scaler.transform(wins_X_test) \n",
    "\n"
   ]
  },
  {
   "cell_type": "code",
   "execution_count": 51,
   "metadata": {},
   "outputs": [
    {
     "name": "stdout",
     "output_type": "stream",
     "text": [
      "{'bootstrap': [True, False],\n",
      " 'max_depth': [10, 20, 30, 40, 50, 60, 70, 80, 90, 100, 110, None],\n",
      " 'max_features': ['auto', 'sqrt'],\n",
      " 'min_samples_leaf': [1, 2, 4],\n",
      " 'min_samples_split': [2, 5, 10],\n",
      " 'n_estimators': [200, 400, 600, 800, 1000, 1200, 1400, 1600, 1800, 2000]}\n"
     ]
    }
   ],
   "source": [
    "#create a random grid\n",
    "\n",
    "from pprint import pprint\n",
    "\n",
    "from sklearn.model_selection import RandomizedSearchCV\n",
    "# Number of trees in random forest\n",
    "n_estimators = [int(x) for x in np.linspace(start = 200, stop = 2000, num = 10)]\n",
    "# Number of features to consider at every split\n",
    "max_features = ['auto', 'sqrt']\n",
    "# Maximum number of levels in tree\n",
    "max_depth = [int(x) for x in np.linspace(10, 110, num = 11)]\n",
    "max_depth.append(None)\n",
    "# Minimum number of samples required to split a node\n",
    "min_samples_split = [2, 5, 10]\n",
    "# Minimum number of samples required at each leaf node\n",
    "min_samples_leaf = [1, 2, 4]\n",
    "# Method of selecting samples for training each tree\n",
    "bootstrap = [True, False]\n",
    "# Create the random grid\n",
    "random_grid = {'n_estimators': n_estimators,\n",
    "               'max_features': max_features,\n",
    "               'max_depth': max_depth,\n",
    "               'min_samples_split': min_samples_split,\n",
    "               'min_samples_leaf': min_samples_leaf,\n",
    "               'bootstrap': bootstrap}\n",
    "pprint(random_grid)\n"
   ]
  },
  {
   "cell_type": "code",
   "execution_count": 89,
   "metadata": {},
   "outputs": [
    {
     "name": "stdout",
     "output_type": "stream",
     "text": [
      "Fitting 3 folds for each of 100 candidates, totalling 300 fits\n"
     ]
    },
    {
     "name": "stderr",
     "output_type": "stream",
     "text": [
      "[Parallel(n_jobs=-1)]: Done  25 tasks      | elapsed:    9.2s\n",
      "[Parallel(n_jobs=-1)]: Done 146 tasks      | elapsed:   33.9s\n",
      "[Parallel(n_jobs=-1)]: Done 300 out of 300 | elapsed:  1.1min finished\n"
     ]
    },
    {
     "data": {
      "text/plain": [
       "RandomizedSearchCV(cv=3, error_score='raise',\n",
       "          estimator=RandomForestRegressor(bootstrap=True, criterion='mse', max_depth=None,\n",
       "           max_features='auto', max_leaf_nodes=None,\n",
       "           min_impurity_decrease=0.0, min_impurity_split=None,\n",
       "           min_samples_leaf=1, min_samples_split=2,\n",
       "           min_weight_fraction_leaf=0.0, n_estimators=10, n_jobs=1,\n",
       "           oob_score=False, random_state=17, verbose=0, warm_start=False),\n",
       "          fit_params=None, iid=True, n_iter=100, n_jobs=-1,\n",
       "          param_distributions={'n_estimators': [200, 400, 600, 800, 1000, 1200, 1400, 1600, 1800, 2000], 'max_features': ['auto', 'sqrt'], 'max_depth': [10, 20, 30, 40, 50, 60, 70, 80, 90, 100, 110, None], 'min_samples_split': [2, 5, 10], 'min_samples_leaf': [1, 2, 4], 'bootstrap': [True, False]},\n",
       "          pre_dispatch='2*n_jobs', random_state=42, refit=True,\n",
       "          return_train_score='warn', scoring=None, verbose=2)"
      ]
     },
     "execution_count": 89,
     "metadata": {},
     "output_type": "execute_result"
    }
   ],
   "source": [
    "# Use the random grid to search for best hyperparameters\n",
    "# First create the base model to tune\n",
    "rf = ensemble.RandomForestRegressor(random_state = 17)\n",
    "# Random search of parameters, using 3 fold cross validation, \n",
    "# search across 100 different combinations, and use all available cores\n",
    "rf_random = RandomizedSearchCV(estimator = rf, param_distributions = random_grid, n_iter = 100, cv = 3, verbose=2, random_state=42, n_jobs = -1)\n",
    "# Fit the random search model\n",
    "rf_random.fit(wins_X_train, wins_y_train)"
   ]
  },
  {
   "cell_type": "code",
   "execution_count": 90,
   "metadata": {},
   "outputs": [
    {
     "data": {
      "text/plain": [
       "{'n_estimators': 1600,\n",
       " 'min_samples_split': 10,\n",
       " 'min_samples_leaf': 1,\n",
       " 'max_features': 'sqrt',\n",
       " 'max_depth': 20,\n",
       " 'bootstrap': True}"
      ]
     },
     "execution_count": 90,
     "metadata": {},
     "output_type": "execute_result"
    }
   ],
   "source": [
    "rf_random.best_params_"
   ]
  },
  {
   "cell_type": "code",
   "execution_count": 91,
   "metadata": {},
   "outputs": [
    {
     "name": "stdout",
     "output_type": "stream",
     "text": [
      "Upper and Lower Bounds for 90% Density:  \n",
      " [-11.288295    15.97592181]\n",
      "Feature Importance:  \n",
      " [0.25779398 0.23559968 0.04754797 0.28620241 0.06411617 0.1087398 ]\n"
     ]
    },
    {
     "data": {
      "text/plain": [
       "Text(0.5,1,'Random Forest')"
      ]
     },
     "execution_count": 91,
     "metadata": {},
     "output_type": "execute_result"
    },
    {
     "data": {
      "image/png": "[encoded data removed]",
      "text/plain": [
       "<Figure size 432x288 with 1 Axes>"
      ]
     },
     "metadata": {},
     "output_type": "display_data"
    }
   ],
   "source": [
    "# Create linear regression object\n",
    "regr = ensemble.RandomForestRegressor(n_estimators = 1600,\n",
    " min_samples_split= 10,\n",
    " min_samples_leaf = 1,\n",
    " max_features= 'sqrt',\n",
    " max_depth= 20,\n",
    " bootstrap = True)\n",
    "\n",
    "# Train the model using the training sets\n",
    "regr.fit(wins_X_train, wins_y_train)\n",
    "importances = regr.feature_importances_\n",
    "\n",
    "# Make predictions using the testing set\n",
    "wins_y_pred = regr.predict(wins_X_test)\n",
    "\n",
    "\n",
    "RF = wins_y_test - wins_y_pred\n",
    "\n",
    "print('Upper and Lower Bounds for 90% Density:  \\n', np.percentile(RF, [5,95]))\n",
    "print('Feature Importance:  \\n', importances)\n",
    "plt.hist(RF)\n",
    "plt.text(0, 6, \"Mean squared error: %.2f\"\n",
    "      % mean_squared_error(wins_y_test, wins_y_pred))\n",
    "plt.text(0, 5.5, 'Variance score: %.2f' % r2_score(wins_y_test, wins_y_pred))\n",
    "plt.xlabel(\"Number of Wins\")\n",
    "plt.ylabel(\"Number of Results\")\n",
    "plt.title('Random Forest')"
   ]
  },
  {
   "cell_type": "markdown",
   "metadata": {},
   "source": [
    "Now that I have looked at a number of models and determined that the Random Forest has been the most accurate, I can take a closer look at how that model is functioning.  Below is an exploration of the feature importance placed by the Random Forest model on each variable."
   ]
  },
  {
   "cell_type": "code",
   "execution_count": 92,
   "metadata": {},
   "outputs": [
    {
     "name": "stdout",
     "output_type": "stream",
     "text": [
      "  Attribute  Coefficient  Coef_Abs_Val\n",
      "3     BPM_A     0.319988      0.319988\n",
      "0      WORP     0.232198      0.232198\n",
      "1      VORP     0.227775      0.227775\n",
      "5    Prev_W     0.107617      0.107617\n",
      "4       Age     0.064825      0.064825\n",
      "2       PER     0.047596      0.047596\n"
     ]
    },
    {
     "data": {
      "text/plain": [
       "Text(0,0.5,'Attribute')"
      ]
     },
     "execution_count": 92,
     "metadata": {},
     "output_type": "execute_result"
    },
    {
     "data": {
      "image/png": "[encoded data removed]",
      "text/plain": [
       "<Figure size 432x288 with 1 Axes>"
      ]
     },
     "metadata": {},
     "output_type": "display_data"
    }
   ],
   "source": [
    "dic ={'Attribute': ['WORP', 'VORP' , 'PER' , 'BPM_A' , 'Age' , 'Prev_W'], 'Coefficient' : [ 0.232198,   0.22777545, 0.04759639, 0.31998789, 0.06482516, 0.10761711]}\n",
    "CoefDF = pd.DataFrame(data=dic)\n",
    "CoefDF['Coef_Abs_Val']= CoefDF['Coefficient'].abs()\n",
    "CoefDF = CoefDF.sort_values(['Coef_Abs_Val'], ascending = False)\n",
    "print (CoefDF)\n",
    "\n",
    "plt.figure()\n",
    "plt.barh(CoefDF['Attribute'], CoefDF['Coef_Abs_Val'], color = ['purple', 'red', 'blue', 'orange', 'gray', 'cyan'])\n",
    "plt.gca().invert_yaxis()\n",
    "plt.title('Feature Importance in Random Forest Model')\n",
    "plt.xlabel('Feature Weighting')\n",
    "plt.ylabel('Attribute')\n"
   ]
  },
  {
   "cell_type": "code",
   "execution_count": 56,
   "metadata": {},
   "outputs": [],
   "source": [
    "#pickle the ammended data for later use\n",
    "import pickle\n",
    "\n",
    "hoops2.to_pickle('hoops2.pickle')"
   ]
  },
  {
   "cell_type": "markdown",
   "metadata": {},
   "source": [
    "In order to satisfy intellectual curiousity, I have also examined the feature importance of the next most accurate model, the RidgeCV, model, to see if it applied similar importance to the featues."
   ]
  },
  {
   "cell_type": "code",
   "execution_count": 74,
   "metadata": {},
   "outputs": [
    {
     "name": "stdout",
     "output_type": "stream",
     "text": [
      "[ 2.83568841  2.87420391 -1.65203126  3.6017439   0.75569442  0.38156254]\n"
     ]
    }
   ],
   "source": [
    "rcv = linear_model.RidgeCV(alphas = (0.1, 0.3, .5, 1, 2, 5, 10))\n",
    "rcv.fit(wins_X_train / np.std(wins_X_train, 0), wins_y_train)\n",
    "print(rcv.coef_)"
   ]
  },
  {
   "cell_type": "code",
   "execution_count": 77,
   "metadata": {},
   "outputs": [
    {
     "name": "stdout",
     "output_type": "stream",
     "text": [
      "  Attribute  Coefficient  Coef_Abs_Val\n",
      "3     BPM_A         3.60          3.60\n",
      "1      VORP         2.87          2.87\n",
      "0      WORP         2.84          2.84\n",
      "2       PER        -1.65          1.65\n",
      "4       Age         0.76          0.76\n",
      "5    Prev_W         0.38          0.38\n"
     ]
    }
   ],
   "source": [
    "rcvdic ={'Attribute': ['WORP', 'VORP' , 'PER' , 'BPM_A' , 'Age' , 'Prev_W'], 'Coefficient' : [ 2.84,   2.87, -1.65, 3.60, 0.76, 0.38]}\n",
    "CoefRCV = pd.DataFrame(data=rcvdic)\n",
    "CoefRCV['Coef_Abs_Val']= CoefRCV['Coefficient'].abs()\n",
    "CoefRCV = CoefRCV.sort_values(['Coef_Abs_Val'], ascending = False)\n",
    "print (CoefRCV)"
   ]
  },
  {
   "cell_type": "code",
   "execution_count": 79,
   "metadata": {},
   "outputs": [
    {
     "data": {
      "text/plain": [
       "Text(0,0.5,'Attribute')"
      ]
     },
     "execution_count": 79,
     "metadata": {},
     "output_type": "execute_result"
    },
    {
     "data": {
      "image/png": "[encoded data removed]",
      "text/plain": [
       "<Figure size 432x288 with 1 Axes>"
      ]
     },
     "metadata": {},
     "output_type": "display_data"
    }
   ],
   "source": [
    "plt.figure()\n",
    "plt.barh(CoefRCV['Attribute'], CoefRCV['Coef_Abs_Val'], color = ['purple', 'red', 'blue', 'orange', 'gray', 'cyan'])\n",
    "plt.gca().invert_yaxis()\n",
    "plt.title('Feature Importance in Ridge CV Model')\n",
    "plt.xlabel('Feature Weighting')\n",
    "plt.ylabel('Attribute')"
   ]
  },
  {
   "cell_type": "markdown",
   "metadata": {},
   "source": [
    "Interestingly, the Ridge CV model applied similar valuations to each of the first three features, also making Box Plus Minus the most important.  It however found the least value in the the previous season win total, and apllied more value (albeit negative) to the PER statistic."
   ]
  },
  {
   "cell_type": "markdown",
   "metadata": {},
   "source": [
    "After exploring a number of models it appears that the model that predicts Wins (as opposed to change in wins) performs significantly better.  Also, the Random Forest model produced the greatest r-squared score and lowest mean squared error of the models applied to the overall wins data.  It also appears that while a team's previous season win total is definitely a factor in predictiong the next season wins, factors like WORP, VORP, and BPM_A may be even more important.  PER, while it did not have a positive correlation to wins, surprisingly, still helped to provide a better fitting model.  Overall, it appears that a reasonable amount of importance can be applied to these statistics when trying to build a winning NBA team."
   ]
  }
 ],
 "metadata": {
  "kernelspec": {
   "display_name": "Python 3",
   "language": "python",
   "name": "python3"
  },
  "language_info": {
   "codemirror_mode": {
    "name": "ipython",
    "version": 3
   },
   "file_extension": ".py",
   "mimetype": "text/x-python",
   "name": "python",
   "nbconvert_exporter": "python",
   "pygments_lexer": "ipython3",
   "version": "3.6.5"
  }
 },
 "nbformat": 4,
 "nbformat_minor": 2
}
